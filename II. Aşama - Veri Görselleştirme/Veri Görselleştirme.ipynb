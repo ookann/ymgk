{
 "cells": [
  {
   "cell_type": "code",
   "execution_count": 103,
   "metadata": {},
   "outputs": [],
   "source": [
    "#Dataya ilk bakış ve keşifçi veri analizi\n",
    "import pandas as pd\n",
    "import numpy as np\n",
    "import seaborn as sns\n",
    "df = pd.read_excel('veri.xlsx') # saatlik \n",
    "dfgünlük = pd.read_excel('veri 2019(günlük) .xlsx')"
   ]
  },
  {
   "cell_type": "code",
   "execution_count": 104,
   "metadata": {},
   "outputs": [
    {
     "data": {
      "text/plain": [
       "<bound method DataFrame.info of                  Tarih   PM10    SO2       CO    NO2     O3\n",
       "0  2019-03-31 00:00:56  27.22  10.85   901.22  29.45  62.26\n",
       "1  2019-03-30 00:00:56  24.50  11.22   909.53  35.52  65.68\n",
       "2  2019-03-29 00:00:56  30.29  10.32   960.18  33.62  61.10\n",
       "3  2019-03-28 00:00:56  36.71  13.09   970.46  42.61  61.45\n",
       "4  2019-03-27 00:00:56  37.63  13.92   946.82  33.71  57.63\n",
       "..                 ...    ...    ...      ...    ...    ...\n",
       "85 2019-01-05 00:00:56  33.14  10.68  1040.96  37.64  31.65\n",
       "86 2019-01-04 00:00:56  57.44  18.23  1081.87  51.35  32.74\n",
       "87 2019-01-03 00:00:56  77.67  19.10  1300.29  58.54  28.91\n",
       "88 2019-01-02 00:00:56  66.85  22.81  1469.51  58.87  23.16\n",
       "89 2019-01-01 00:00:56  33.47  11.78   904.35  33.10  30.51\n",
       "\n",
       "[90 rows x 6 columns]>"
      ]
     },
     "execution_count": 104,
     "metadata": {},
     "output_type": "execute_result"
    }
   ],
   "source": [
    "dfgünlük = dfgünlük.copy()\n",
    "dfgünlük.info"
   ]
  },
  {
   "cell_type": "code",
   "execution_count": 105,
   "metadata": {},
   "outputs": [
    {
     "data": {
      "text/html": [
       "<div>\n",
       "<style scoped>\n",
       "    .dataframe tbody tr th:only-of-type {\n",
       "        vertical-align: middle;\n",
       "    }\n",
       "\n",
       "    .dataframe tbody tr th {\n",
       "        vertical-align: top;\n",
       "    }\n",
       "\n",
       "    .dataframe thead th {\n",
       "        text-align: right;\n",
       "    }\n",
       "</style>\n",
       "<table border=\"1\" class=\"dataframe\">\n",
       "  <thead>\n",
       "    <tr style=\"text-align: right;\">\n",
       "      <th></th>\n",
       "      <th>Tarih</th>\n",
       "      <th>PM10</th>\n",
       "      <th>SO2</th>\n",
       "      <th>CO</th>\n",
       "      <th>NO2</th>\n",
       "      <th>O3</th>\n",
       "    </tr>\n",
       "  </thead>\n",
       "  <tbody>\n",
       "    <tr>\n",
       "      <th>0</th>\n",
       "      <td>2019-03-31 00:00:56</td>\n",
       "      <td>27.22</td>\n",
       "      <td>10.85</td>\n",
       "      <td>901.22</td>\n",
       "      <td>29.45</td>\n",
       "      <td>62.26</td>\n",
       "    </tr>\n",
       "    <tr>\n",
       "      <th>1</th>\n",
       "      <td>2019-03-30 00:00:56</td>\n",
       "      <td>24.50</td>\n",
       "      <td>11.22</td>\n",
       "      <td>909.53</td>\n",
       "      <td>35.52</td>\n",
       "      <td>65.68</td>\n",
       "    </tr>\n",
       "    <tr>\n",
       "      <th>2</th>\n",
       "      <td>2019-03-29 00:00:56</td>\n",
       "      <td>30.29</td>\n",
       "      <td>10.32</td>\n",
       "      <td>960.18</td>\n",
       "      <td>33.62</td>\n",
       "      <td>61.10</td>\n",
       "    </tr>\n",
       "    <tr>\n",
       "      <th>3</th>\n",
       "      <td>2019-03-28 00:00:56</td>\n",
       "      <td>36.71</td>\n",
       "      <td>13.09</td>\n",
       "      <td>970.46</td>\n",
       "      <td>42.61</td>\n",
       "      <td>61.45</td>\n",
       "    </tr>\n",
       "    <tr>\n",
       "      <th>4</th>\n",
       "      <td>2019-03-27 00:00:56</td>\n",
       "      <td>37.63</td>\n",
       "      <td>13.92</td>\n",
       "      <td>946.82</td>\n",
       "      <td>33.71</td>\n",
       "      <td>57.63</td>\n",
       "    </tr>\n",
       "  </tbody>\n",
       "</table>\n",
       "</div>"
      ],
      "text/plain": [
       "                Tarih   PM10    SO2      CO    NO2     O3\n",
       "0 2019-03-31 00:00:56  27.22  10.85  901.22  29.45  62.26\n",
       "1 2019-03-30 00:00:56  24.50  11.22  909.53  35.52  65.68\n",
       "2 2019-03-29 00:00:56  30.29  10.32  960.18  33.62  61.10\n",
       "3 2019-03-28 00:00:56  36.71  13.09  970.46  42.61  61.45\n",
       "4 2019-03-27 00:00:56  37.63  13.92  946.82  33.71  57.63"
      ]
     },
     "execution_count": 105,
     "metadata": {},
     "output_type": "execute_result"
    }
   ],
   "source": [
    "dfgünlük.head()"
   ]
  },
  {
   "cell_type": "code",
   "execution_count": 106,
   "metadata": {},
   "outputs": [
    {
     "data": {
      "text/html": [
       "<div>\n",
       "<style scoped>\n",
       "    .dataframe tbody tr th:only-of-type {\n",
       "        vertical-align: middle;\n",
       "    }\n",
       "\n",
       "    .dataframe tbody tr th {\n",
       "        vertical-align: top;\n",
       "    }\n",
       "\n",
       "    .dataframe thead th {\n",
       "        text-align: right;\n",
       "    }\n",
       "</style>\n",
       "<table border=\"1\" class=\"dataframe\">\n",
       "  <thead>\n",
       "    <tr style=\"text-align: right;\">\n",
       "      <th></th>\n",
       "      <th>count</th>\n",
       "      <th>mean</th>\n",
       "      <th>std</th>\n",
       "      <th>min</th>\n",
       "      <th>25%</th>\n",
       "      <th>50%</th>\n",
       "      <th>75%</th>\n",
       "      <th>max</th>\n",
       "    </tr>\n",
       "  </thead>\n",
       "  <tbody>\n",
       "    <tr>\n",
       "      <th>PM10</th>\n",
       "      <td>90.0</td>\n",
       "      <td>45.243778</td>\n",
       "      <td>17.179849</td>\n",
       "      <td>21.49</td>\n",
       "      <td>34.2550</td>\n",
       "      <td>39.595</td>\n",
       "      <td>57.2775</td>\n",
       "      <td>100.74</td>\n",
       "    </tr>\n",
       "    <tr>\n",
       "      <th>SO2</th>\n",
       "      <td>90.0</td>\n",
       "      <td>13.936889</td>\n",
       "      <td>3.625620</td>\n",
       "      <td>8.75</td>\n",
       "      <td>11.2800</td>\n",
       "      <td>13.140</td>\n",
       "      <td>15.6050</td>\n",
       "      <td>26.03</td>\n",
       "    </tr>\n",
       "    <tr>\n",
       "      <th>CO</th>\n",
       "      <td>90.0</td>\n",
       "      <td>1058.395778</td>\n",
       "      <td>204.685503</td>\n",
       "      <td>738.23</td>\n",
       "      <td>924.9700</td>\n",
       "      <td>990.830</td>\n",
       "      <td>1148.4700</td>\n",
       "      <td>1793.21</td>\n",
       "    </tr>\n",
       "    <tr>\n",
       "      <th>NO2</th>\n",
       "      <td>90.0</td>\n",
       "      <td>44.643222</td>\n",
       "      <td>10.521943</td>\n",
       "      <td>29.45</td>\n",
       "      <td>37.5725</td>\n",
       "      <td>42.530</td>\n",
       "      <td>49.0075</td>\n",
       "      <td>77.58</td>\n",
       "    </tr>\n",
       "    <tr>\n",
       "      <th>O3</th>\n",
       "      <td>90.0</td>\n",
       "      <td>43.973778</td>\n",
       "      <td>14.306172</td>\n",
       "      <td>12.62</td>\n",
       "      <td>32.3725</td>\n",
       "      <td>44.055</td>\n",
       "      <td>55.5250</td>\n",
       "      <td>77.67</td>\n",
       "    </tr>\n",
       "  </tbody>\n",
       "</table>\n",
       "</div>"
      ],
      "text/plain": [
       "      count         mean         std     min       25%      50%        75%  \\\n",
       "PM10   90.0    45.243778   17.179849   21.49   34.2550   39.595    57.2775   \n",
       "SO2    90.0    13.936889    3.625620    8.75   11.2800   13.140    15.6050   \n",
       "CO     90.0  1058.395778  204.685503  738.23  924.9700  990.830  1148.4700   \n",
       "NO2    90.0    44.643222   10.521943   29.45   37.5725   42.530    49.0075   \n",
       "O3     90.0    43.973778   14.306172   12.62   32.3725   44.055    55.5250   \n",
       "\n",
       "          max  \n",
       "PM10   100.74  \n",
       "SO2     26.03  \n",
       "CO    1793.21  \n",
       "NO2     77.58  \n",
       "O3      77.67  "
      ]
     },
     "execution_count": 106,
     "metadata": {},
     "output_type": "execute_result"
    }
   ],
   "source": [
    "dfgünlük.describe().T"
   ]
  },
  {
   "cell_type": "code",
   "execution_count": 107,
   "metadata": {},
   "outputs": [
    {
     "data": {
      "text/html": [
       "<div>\n",
       "<style scoped>\n",
       "    .dataframe tbody tr th:only-of-type {\n",
       "        vertical-align: middle;\n",
       "    }\n",
       "\n",
       "    .dataframe tbody tr th {\n",
       "        vertical-align: top;\n",
       "    }\n",
       "\n",
       "    .dataframe thead th {\n",
       "        text-align: right;\n",
       "    }\n",
       "</style>\n",
       "<table border=\"1\" class=\"dataframe\">\n",
       "  <thead>\n",
       "    <tr style=\"text-align: right;\">\n",
       "      <th></th>\n",
       "      <th>count</th>\n",
       "      <th>mean</th>\n",
       "      <th>std</th>\n",
       "      <th>min</th>\n",
       "      <th>25%</th>\n",
       "      <th>50%</th>\n",
       "      <th>75%</th>\n",
       "      <th>max</th>\n",
       "    </tr>\n",
       "  </thead>\n",
       "  <tbody>\n",
       "    <tr>\n",
       "      <th>PM10</th>\n",
       "      <td>90.0</td>\n",
       "      <td>45.243778</td>\n",
       "      <td>17.179849</td>\n",
       "      <td>21.49</td>\n",
       "      <td>34.2550</td>\n",
       "      <td>39.595</td>\n",
       "      <td>57.2775</td>\n",
       "      <td>100.74</td>\n",
       "    </tr>\n",
       "    <tr>\n",
       "      <th>SO2</th>\n",
       "      <td>90.0</td>\n",
       "      <td>13.936889</td>\n",
       "      <td>3.625620</td>\n",
       "      <td>8.75</td>\n",
       "      <td>11.2800</td>\n",
       "      <td>13.140</td>\n",
       "      <td>15.6050</td>\n",
       "      <td>26.03</td>\n",
       "    </tr>\n",
       "    <tr>\n",
       "      <th>CO</th>\n",
       "      <td>90.0</td>\n",
       "      <td>1058.395778</td>\n",
       "      <td>204.685503</td>\n",
       "      <td>738.23</td>\n",
       "      <td>924.9700</td>\n",
       "      <td>990.830</td>\n",
       "      <td>1148.4700</td>\n",
       "      <td>1793.21</td>\n",
       "    </tr>\n",
       "    <tr>\n",
       "      <th>NO2</th>\n",
       "      <td>90.0</td>\n",
       "      <td>44.643222</td>\n",
       "      <td>10.521943</td>\n",
       "      <td>29.45</td>\n",
       "      <td>37.5725</td>\n",
       "      <td>42.530</td>\n",
       "      <td>49.0075</td>\n",
       "      <td>77.58</td>\n",
       "    </tr>\n",
       "    <tr>\n",
       "      <th>O3</th>\n",
       "      <td>90.0</td>\n",
       "      <td>43.973778</td>\n",
       "      <td>14.306172</td>\n",
       "      <td>12.62</td>\n",
       "      <td>32.3725</td>\n",
       "      <td>44.055</td>\n",
       "      <td>55.5250</td>\n",
       "      <td>77.67</td>\n",
       "    </tr>\n",
       "  </tbody>\n",
       "</table>\n",
       "</div>"
      ],
      "text/plain": [
       "      count         mean         std     min       25%      50%        75%  \\\n",
       "PM10   90.0    45.243778   17.179849   21.49   34.2550   39.595    57.2775   \n",
       "SO2    90.0    13.936889    3.625620    8.75   11.2800   13.140    15.6050   \n",
       "CO     90.0  1058.395778  204.685503  738.23  924.9700  990.830  1148.4700   \n",
       "NO2    90.0    44.643222   10.521943   29.45   37.5725   42.530    49.0075   \n",
       "O3     90.0    43.973778   14.306172   12.62   32.3725   44.055    55.5250   \n",
       "\n",
       "          max  \n",
       "PM10   100.74  \n",
       "SO2     26.03  \n",
       "CO    1793.21  \n",
       "NO2     77.58  \n",
       "O3      77.67  "
      ]
     },
     "execution_count": 107,
     "metadata": {},
     "output_type": "execute_result"
    }
   ],
   "source": [
    "dfgünlük.describe().T"
   ]
  },
  {
   "cell_type": "code",
   "execution_count": 108,
   "metadata": {},
   "outputs": [
    {
     "data": {
      "text/plain": [
       "Tarih    0\n",
       "PM10     0\n",
       "SO2      0\n",
       "CO       0\n",
       "NO2      0\n",
       "O3       0\n",
       "dtype: int64"
      ]
     },
     "execution_count": 108,
     "metadata": {},
     "output_type": "execute_result"
    }
   ],
   "source": [
    "dfgünlük.isnull().sum()# Boş değerler"
   ]
  },
  {
   "cell_type": "code",
   "execution_count": 109,
   "metadata": {},
   "outputs": [
    {
     "data": {
      "text/html": [
       "<div>\n",
       "<style scoped>\n",
       "    .dataframe tbody tr th:only-of-type {\n",
       "        vertical-align: middle;\n",
       "    }\n",
       "\n",
       "    .dataframe tbody tr th {\n",
       "        vertical-align: top;\n",
       "    }\n",
       "\n",
       "    .dataframe thead th {\n",
       "        text-align: right;\n",
       "    }\n",
       "</style>\n",
       "<table border=\"1\" class=\"dataframe\">\n",
       "  <thead>\n",
       "    <tr style=\"text-align: right;\">\n",
       "      <th></th>\n",
       "      <th>Tarih</th>\n",
       "      <th>PM10</th>\n",
       "      <th>SO2</th>\n",
       "      <th>CO</th>\n",
       "      <th>NO2</th>\n",
       "      <th>O3</th>\n",
       "    </tr>\n",
       "  </thead>\n",
       "  <tbody>\n",
       "    <tr>\n",
       "      <th>0</th>\n",
       "      <td>2019-12-31 23:00:56</td>\n",
       "      <td>36.38</td>\n",
       "      <td>11.34</td>\n",
       "      <td>1142.85</td>\n",
       "      <td>23.50</td>\n",
       "      <td>25.31</td>\n",
       "    </tr>\n",
       "    <tr>\n",
       "      <th>1</th>\n",
       "      <td>2019-12-31 22:00:56</td>\n",
       "      <td>44.51</td>\n",
       "      <td>16.29</td>\n",
       "      <td>1035.89</td>\n",
       "      <td>20.76</td>\n",
       "      <td>28.43</td>\n",
       "    </tr>\n",
       "    <tr>\n",
       "      <th>2</th>\n",
       "      <td>2019-12-31 21:00:56</td>\n",
       "      <td>61.78</td>\n",
       "      <td>20.84</td>\n",
       "      <td>1241.36</td>\n",
       "      <td>30.59</td>\n",
       "      <td>22.58</td>\n",
       "    </tr>\n",
       "    <tr>\n",
       "      <th>3</th>\n",
       "      <td>2019-12-31 20:00:56</td>\n",
       "      <td>79.23</td>\n",
       "      <td>19.15</td>\n",
       "      <td>1123.91</td>\n",
       "      <td>29.34</td>\n",
       "      <td>25.60</td>\n",
       "    </tr>\n",
       "    <tr>\n",
       "      <th>4</th>\n",
       "      <td>2019-12-31 19:00:56</td>\n",
       "      <td>83.25</td>\n",
       "      <td>21.40</td>\n",
       "      <td>1440.77</td>\n",
       "      <td>44.66</td>\n",
       "      <td>11.19</td>\n",
       "    </tr>\n",
       "    <tr>\n",
       "      <th>...</th>\n",
       "      <td>...</td>\n",
       "      <td>...</td>\n",
       "      <td>...</td>\n",
       "      <td>...</td>\n",
       "      <td>...</td>\n",
       "      <td>...</td>\n",
       "    </tr>\n",
       "    <tr>\n",
       "      <th>8755</th>\n",
       "      <td>2019-01-01 04:00:56</td>\n",
       "      <td>21.88</td>\n",
       "      <td>5.62</td>\n",
       "      <td>626.16</td>\n",
       "      <td>12.13</td>\n",
       "      <td>27.85</td>\n",
       "    </tr>\n",
       "    <tr>\n",
       "      <th>8756</th>\n",
       "      <td>2019-01-01 03:00:56</td>\n",
       "      <td>26.14</td>\n",
       "      <td>5.42</td>\n",
       "      <td>744.41</td>\n",
       "      <td>14.71</td>\n",
       "      <td>26.04</td>\n",
       "    </tr>\n",
       "    <tr>\n",
       "      <th>8757</th>\n",
       "      <td>2019-01-01 02:00:56</td>\n",
       "      <td>30.92</td>\n",
       "      <td>5.91</td>\n",
       "      <td>830.69</td>\n",
       "      <td>17.70</td>\n",
       "      <td>23.61</td>\n",
       "    </tr>\n",
       "    <tr>\n",
       "      <th>8758</th>\n",
       "      <td>2019-01-01 01:00:56</td>\n",
       "      <td>34.85</td>\n",
       "      <td>6.47</td>\n",
       "      <td>925.39</td>\n",
       "      <td>20.53</td>\n",
       "      <td>25.09</td>\n",
       "    </tr>\n",
       "    <tr>\n",
       "      <th>8759</th>\n",
       "      <td>2019-01-01 00:00:56</td>\n",
       "      <td>40.94</td>\n",
       "      <td>7.19</td>\n",
       "      <td>1063.86</td>\n",
       "      <td>26.70</td>\n",
       "      <td>20.21</td>\n",
       "    </tr>\n",
       "  </tbody>\n",
       "</table>\n",
       "<p>8760 rows × 6 columns</p>\n",
       "</div>"
      ],
      "text/plain": [
       "                   Tarih   PM10    SO2       CO    NO2     O3\n",
       "0    2019-12-31 23:00:56  36.38  11.34  1142.85  23.50  25.31\n",
       "1    2019-12-31 22:00:56  44.51  16.29  1035.89  20.76  28.43\n",
       "2    2019-12-31 21:00:56  61.78  20.84  1241.36  30.59  22.58\n",
       "3    2019-12-31 20:00:56  79.23  19.15  1123.91  29.34  25.60\n",
       "4    2019-12-31 19:00:56  83.25  21.40  1440.77  44.66  11.19\n",
       "...                  ...    ...    ...      ...    ...    ...\n",
       "8755 2019-01-01 04:00:56  21.88   5.62   626.16  12.13  27.85\n",
       "8756 2019-01-01 03:00:56  26.14   5.42   744.41  14.71  26.04\n",
       "8757 2019-01-01 02:00:56  30.92   5.91   830.69  17.70  23.61\n",
       "8758 2019-01-01 01:00:56  34.85   6.47   925.39  20.53  25.09\n",
       "8759 2019-01-01 00:00:56  40.94   7.19  1063.86  26.70  20.21\n",
       "\n",
       "[8760 rows x 6 columns]"
      ]
     },
     "execution_count": 109,
     "metadata": {},
     "output_type": "execute_result"
    }
   ],
   "source": [
    "df = df.copy() # datanın orijinaline birşey olmasın diye kopyasını alıyoruz\n",
    "df"
   ]
  },
  {
   "cell_type": "code",
   "execution_count": 110,
   "metadata": {},
   "outputs": [
    {
     "data": {
      "text/html": [
       "<div>\n",
       "<style scoped>\n",
       "    .dataframe tbody tr th:only-of-type {\n",
       "        vertical-align: middle;\n",
       "    }\n",
       "\n",
       "    .dataframe tbody tr th {\n",
       "        vertical-align: top;\n",
       "    }\n",
       "\n",
       "    .dataframe thead th {\n",
       "        text-align: right;\n",
       "    }\n",
       "</style>\n",
       "<table border=\"1\" class=\"dataframe\">\n",
       "  <thead>\n",
       "    <tr style=\"text-align: right;\">\n",
       "      <th></th>\n",
       "      <th>Tarih</th>\n",
       "      <th>PM10</th>\n",
       "      <th>SO2</th>\n",
       "      <th>CO</th>\n",
       "      <th>NO2</th>\n",
       "      <th>O3</th>\n",
       "    </tr>\n",
       "  </thead>\n",
       "  <tbody>\n",
       "    <tr>\n",
       "      <th>8755</th>\n",
       "      <td>2019-01-01 04:00:56</td>\n",
       "      <td>21.88</td>\n",
       "      <td>5.62</td>\n",
       "      <td>626.16</td>\n",
       "      <td>12.13</td>\n",
       "      <td>27.85</td>\n",
       "    </tr>\n",
       "    <tr>\n",
       "      <th>8756</th>\n",
       "      <td>2019-01-01 03:00:56</td>\n",
       "      <td>26.14</td>\n",
       "      <td>5.42</td>\n",
       "      <td>744.41</td>\n",
       "      <td>14.71</td>\n",
       "      <td>26.04</td>\n",
       "    </tr>\n",
       "    <tr>\n",
       "      <th>8757</th>\n",
       "      <td>2019-01-01 02:00:56</td>\n",
       "      <td>30.92</td>\n",
       "      <td>5.91</td>\n",
       "      <td>830.69</td>\n",
       "      <td>17.70</td>\n",
       "      <td>23.61</td>\n",
       "    </tr>\n",
       "    <tr>\n",
       "      <th>8758</th>\n",
       "      <td>2019-01-01 01:00:56</td>\n",
       "      <td>34.85</td>\n",
       "      <td>6.47</td>\n",
       "      <td>925.39</td>\n",
       "      <td>20.53</td>\n",
       "      <td>25.09</td>\n",
       "    </tr>\n",
       "    <tr>\n",
       "      <th>8759</th>\n",
       "      <td>2019-01-01 00:00:56</td>\n",
       "      <td>40.94</td>\n",
       "      <td>7.19</td>\n",
       "      <td>1063.86</td>\n",
       "      <td>26.70</td>\n",
       "      <td>20.21</td>\n",
       "    </tr>\n",
       "  </tbody>\n",
       "</table>\n",
       "</div>"
      ],
      "text/plain": [
       "                   Tarih   PM10   SO2       CO    NO2     O3\n",
       "8755 2019-01-01 04:00:56  21.88  5.62   626.16  12.13  27.85\n",
       "8756 2019-01-01 03:00:56  26.14  5.42   744.41  14.71  26.04\n",
       "8757 2019-01-01 02:00:56  30.92  5.91   830.69  17.70  23.61\n",
       "8758 2019-01-01 01:00:56  34.85  6.47   925.39  20.53  25.09\n",
       "8759 2019-01-01 00:00:56  40.94  7.19  1063.86  26.70  20.21"
      ]
     },
     "execution_count": 110,
     "metadata": {},
     "output_type": "execute_result"
    }
   ],
   "source": [
    "df.tail()"
   ]
  },
  {
   "cell_type": "code",
   "execution_count": 111,
   "metadata": {},
   "outputs": [
    {
     "data": {
      "text/plain": [
       "<bound method DataFrame.info of                    Tarih   PM10    SO2       CO    NO2     O3\n",
       "0    2019-12-31 23:00:56  36.38  11.34  1142.85  23.50  25.31\n",
       "1    2019-12-31 22:00:56  44.51  16.29  1035.89  20.76  28.43\n",
       "2    2019-12-31 21:00:56  61.78  20.84  1241.36  30.59  22.58\n",
       "3    2019-12-31 20:00:56  79.23  19.15  1123.91  29.34  25.60\n",
       "4    2019-12-31 19:00:56  83.25  21.40  1440.77  44.66  11.19\n",
       "...                  ...    ...    ...      ...    ...    ...\n",
       "8755 2019-01-01 04:00:56  21.88   5.62   626.16  12.13  27.85\n",
       "8756 2019-01-01 03:00:56  26.14   5.42   744.41  14.71  26.04\n",
       "8757 2019-01-01 02:00:56  30.92   5.91   830.69  17.70  23.61\n",
       "8758 2019-01-01 01:00:56  34.85   6.47   925.39  20.53  25.09\n",
       "8759 2019-01-01 00:00:56  40.94   7.19  1063.86  26.70  20.21\n",
       "\n",
       "[8760 rows x 6 columns]>"
      ]
     },
     "execution_count": 111,
     "metadata": {},
     "output_type": "execute_result"
    }
   ],
   "source": [
    "df.info"
   ]
  },
  {
   "cell_type": "code",
   "execution_count": 112,
   "metadata": {},
   "outputs": [
    {
     "data": {
      "text/plain": [
       "Tarih    datetime64[ns]\n",
       "PM10            float64\n",
       "SO2             float64\n",
       "CO              float64\n",
       "NO2             float64\n",
       "O3              float64\n",
       "dtype: object"
      ]
     },
     "execution_count": 112,
     "metadata": {},
     "output_type": "execute_result"
    }
   ],
   "source": [
    "df.dtypes"
   ]
  },
  {
   "cell_type": "code",
   "execution_count": 113,
   "metadata": {},
   "outputs": [
    {
     "data": {
      "text/plain": [
       "(8760, 6)"
      ]
     },
     "execution_count": 113,
     "metadata": {},
     "output_type": "execute_result"
    }
   ],
   "source": [
    "df.shape"
   ]
  },
  {
   "cell_type": "code",
   "execution_count": 114,
   "metadata": {},
   "outputs": [
    {
     "data": {
      "text/plain": [
       "Index(['Tarih', 'PM10', 'SO2', 'CO', 'NO2', 'O3'], dtype='object')"
      ]
     },
     "execution_count": 114,
     "metadata": {},
     "output_type": "execute_result"
    }
   ],
   "source": [
    "df.columns"
   ]
  },
  {
   "cell_type": "code",
   "execution_count": 115,
   "metadata": {},
   "outputs": [
    {
     "data": {
      "text/html": [
       "<div>\n",
       "<style scoped>\n",
       "    .dataframe tbody tr th:only-of-type {\n",
       "        vertical-align: middle;\n",
       "    }\n",
       "\n",
       "    .dataframe tbody tr th {\n",
       "        vertical-align: top;\n",
       "    }\n",
       "\n",
       "    .dataframe thead th {\n",
       "        text-align: right;\n",
       "    }\n",
       "</style>\n",
       "<table border=\"1\" class=\"dataframe\">\n",
       "  <thead>\n",
       "    <tr style=\"text-align: right;\">\n",
       "      <th></th>\n",
       "      <th>count</th>\n",
       "      <th>mean</th>\n",
       "      <th>std</th>\n",
       "      <th>min</th>\n",
       "      <th>25%</th>\n",
       "      <th>50%</th>\n",
       "      <th>75%</th>\n",
       "      <th>max</th>\n",
       "    </tr>\n",
       "  </thead>\n",
       "  <tbody>\n",
       "    <tr>\n",
       "      <th>PM10</th>\n",
       "      <td>8616.0</td>\n",
       "      <td>37.673249</td>\n",
       "      <td>27.482859</td>\n",
       "      <td>0.10</td>\n",
       "      <td>20.610</td>\n",
       "      <td>30.55</td>\n",
       "      <td>46.635</td>\n",
       "      <td>282.59</td>\n",
       "    </tr>\n",
       "    <tr>\n",
       "      <th>SO2</th>\n",
       "      <td>8681.0</td>\n",
       "      <td>8.445656</td>\n",
       "      <td>7.093991</td>\n",
       "      <td>1.75</td>\n",
       "      <td>4.290</td>\n",
       "      <td>5.36</td>\n",
       "      <td>10.060</td>\n",
       "      <td>75.17</td>\n",
       "    </tr>\n",
       "    <tr>\n",
       "      <th>CO</th>\n",
       "      <td>8663.0</td>\n",
       "      <td>746.450735</td>\n",
       "      <td>396.815305</td>\n",
       "      <td>226.25</td>\n",
       "      <td>494.655</td>\n",
       "      <td>609.07</td>\n",
       "      <td>881.050</td>\n",
       "      <td>4773.81</td>\n",
       "    </tr>\n",
       "    <tr>\n",
       "      <th>NO2</th>\n",
       "      <td>8299.0</td>\n",
       "      <td>31.520372</td>\n",
       "      <td>23.807203</td>\n",
       "      <td>0.16</td>\n",
       "      <td>13.775</td>\n",
       "      <td>24.38</td>\n",
       "      <td>42.370</td>\n",
       "      <td>168.11</td>\n",
       "    </tr>\n",
       "    <tr>\n",
       "      <th>O3</th>\n",
       "      <td>8706.0</td>\n",
       "      <td>50.543476</td>\n",
       "      <td>26.432759</td>\n",
       "      <td>0.12</td>\n",
       "      <td>30.250</td>\n",
       "      <td>47.28</td>\n",
       "      <td>70.810</td>\n",
       "      <td>127.72</td>\n",
       "    </tr>\n",
       "  </tbody>\n",
       "</table>\n",
       "</div>"
      ],
      "text/plain": [
       "       count        mean         std     min      25%     50%      75%  \\\n",
       "PM10  8616.0   37.673249   27.482859    0.10   20.610   30.55   46.635   \n",
       "SO2   8681.0    8.445656    7.093991    1.75    4.290    5.36   10.060   \n",
       "CO    8663.0  746.450735  396.815305  226.25  494.655  609.07  881.050   \n",
       "NO2   8299.0   31.520372   23.807203    0.16   13.775   24.38   42.370   \n",
       "O3    8706.0   50.543476   26.432759    0.12   30.250   47.28   70.810   \n",
       "\n",
       "          max  \n",
       "PM10   282.59  \n",
       "SO2     75.17  \n",
       "CO    4773.81  \n",
       "NO2    168.11  \n",
       "O3     127.72  "
      ]
     },
     "execution_count": 115,
     "metadata": {},
     "output_type": "execute_result"
    }
   ],
   "source": [
    "df.describe().T"
   ]
  },
  {
   "cell_type": "code",
   "execution_count": 116,
   "metadata": {},
   "outputs": [
    {
     "data": {
      "text/html": [
       "<div>\n",
       "<style scoped>\n",
       "    .dataframe tbody tr th:only-of-type {\n",
       "        vertical-align: middle;\n",
       "    }\n",
       "\n",
       "    .dataframe tbody tr th {\n",
       "        vertical-align: top;\n",
       "    }\n",
       "\n",
       "    .dataframe thead th {\n",
       "        text-align: right;\n",
       "    }\n",
       "</style>\n",
       "<table border=\"1\" class=\"dataframe\">\n",
       "  <thead>\n",
       "    <tr style=\"text-align: right;\">\n",
       "      <th></th>\n",
       "      <th>PM10</th>\n",
       "      <th>SO2</th>\n",
       "      <th>CO</th>\n",
       "      <th>NO2</th>\n",
       "      <th>O3</th>\n",
       "    </tr>\n",
       "  </thead>\n",
       "  <tbody>\n",
       "    <tr>\n",
       "      <th>count</th>\n",
       "      <td>8616.000000</td>\n",
       "      <td>8681.000000</td>\n",
       "      <td>8663.000000</td>\n",
       "      <td>8299.000000</td>\n",
       "      <td>8706.000000</td>\n",
       "    </tr>\n",
       "    <tr>\n",
       "      <th>mean</th>\n",
       "      <td>37.673249</td>\n",
       "      <td>8.445656</td>\n",
       "      <td>746.450735</td>\n",
       "      <td>31.520372</td>\n",
       "      <td>50.543476</td>\n",
       "    </tr>\n",
       "    <tr>\n",
       "      <th>std</th>\n",
       "      <td>27.482859</td>\n",
       "      <td>7.093991</td>\n",
       "      <td>396.815305</td>\n",
       "      <td>23.807203</td>\n",
       "      <td>26.432759</td>\n",
       "    </tr>\n",
       "    <tr>\n",
       "      <th>min</th>\n",
       "      <td>0.100000</td>\n",
       "      <td>1.750000</td>\n",
       "      <td>226.250000</td>\n",
       "      <td>0.160000</td>\n",
       "      <td>0.120000</td>\n",
       "    </tr>\n",
       "    <tr>\n",
       "      <th>25%</th>\n",
       "      <td>20.610000</td>\n",
       "      <td>4.290000</td>\n",
       "      <td>494.655000</td>\n",
       "      <td>13.775000</td>\n",
       "      <td>30.250000</td>\n",
       "    </tr>\n",
       "    <tr>\n",
       "      <th>50%</th>\n",
       "      <td>30.550000</td>\n",
       "      <td>5.360000</td>\n",
       "      <td>609.070000</td>\n",
       "      <td>24.380000</td>\n",
       "      <td>47.280000</td>\n",
       "    </tr>\n",
       "    <tr>\n",
       "      <th>75%</th>\n",
       "      <td>46.635000</td>\n",
       "      <td>10.060000</td>\n",
       "      <td>881.050000</td>\n",
       "      <td>42.370000</td>\n",
       "      <td>70.810000</td>\n",
       "    </tr>\n",
       "    <tr>\n",
       "      <th>max</th>\n",
       "      <td>282.590000</td>\n",
       "      <td>75.170000</td>\n",
       "      <td>4773.810000</td>\n",
       "      <td>168.110000</td>\n",
       "      <td>127.720000</td>\n",
       "    </tr>\n",
       "  </tbody>\n",
       "</table>\n",
       "</div>"
      ],
      "text/plain": [
       "              PM10          SO2           CO          NO2           O3\n",
       "count  8616.000000  8681.000000  8663.000000  8299.000000  8706.000000\n",
       "mean     37.673249     8.445656   746.450735    31.520372    50.543476\n",
       "std      27.482859     7.093991   396.815305    23.807203    26.432759\n",
       "min       0.100000     1.750000   226.250000     0.160000     0.120000\n",
       "25%      20.610000     4.290000   494.655000    13.775000    30.250000\n",
       "50%      30.550000     5.360000   609.070000    24.380000    47.280000\n",
       "75%      46.635000    10.060000   881.050000    42.370000    70.810000\n",
       "max     282.590000    75.170000  4773.810000   168.110000   127.720000"
      ]
     },
     "execution_count": 116,
     "metadata": {},
     "output_type": "execute_result"
    }
   ],
   "source": [
    "df.describe()"
   ]
  },
  {
   "cell_type": "code",
   "execution_count": 117,
   "metadata": {},
   "outputs": [
    {
     "data": {
      "text/html": [
       "<div>\n",
       "<style scoped>\n",
       "    .dataframe tbody tr th:only-of-type {\n",
       "        vertical-align: middle;\n",
       "    }\n",
       "\n",
       "    .dataframe tbody tr th {\n",
       "        vertical-align: top;\n",
       "    }\n",
       "\n",
       "    .dataframe thead th {\n",
       "        text-align: right;\n",
       "    }\n",
       "</style>\n",
       "<table border=\"1\" class=\"dataframe\">\n",
       "  <thead>\n",
       "    <tr style=\"text-align: right;\">\n",
       "      <th></th>\n",
       "      <th>Tarih</th>\n",
       "      <th>PM10</th>\n",
       "      <th>SO2</th>\n",
       "      <th>CO</th>\n",
       "      <th>NO2</th>\n",
       "      <th>O3</th>\n",
       "    </tr>\n",
       "  </thead>\n",
       "  <tbody>\n",
       "    <tr>\n",
       "      <th>count</th>\n",
       "      <td>8760</td>\n",
       "      <td>8616.000000</td>\n",
       "      <td>8681.000000</td>\n",
       "      <td>8663.000000</td>\n",
       "      <td>8299.000000</td>\n",
       "      <td>8706.000000</td>\n",
       "    </tr>\n",
       "    <tr>\n",
       "      <th>unique</th>\n",
       "      <td>8760</td>\n",
       "      <td>NaN</td>\n",
       "      <td>NaN</td>\n",
       "      <td>NaN</td>\n",
       "      <td>NaN</td>\n",
       "      <td>NaN</td>\n",
       "    </tr>\n",
       "    <tr>\n",
       "      <th>top</th>\n",
       "      <td>2019-02-08 17:00:56</td>\n",
       "      <td>NaN</td>\n",
       "      <td>NaN</td>\n",
       "      <td>NaN</td>\n",
       "      <td>NaN</td>\n",
       "      <td>NaN</td>\n",
       "    </tr>\n",
       "    <tr>\n",
       "      <th>freq</th>\n",
       "      <td>1</td>\n",
       "      <td>NaN</td>\n",
       "      <td>NaN</td>\n",
       "      <td>NaN</td>\n",
       "      <td>NaN</td>\n",
       "      <td>NaN</td>\n",
       "    </tr>\n",
       "    <tr>\n",
       "      <th>first</th>\n",
       "      <td>2019-01-01 00:00:56</td>\n",
       "      <td>NaN</td>\n",
       "      <td>NaN</td>\n",
       "      <td>NaN</td>\n",
       "      <td>NaN</td>\n",
       "      <td>NaN</td>\n",
       "    </tr>\n",
       "    <tr>\n",
       "      <th>last</th>\n",
       "      <td>2019-12-31 23:00:56</td>\n",
       "      <td>NaN</td>\n",
       "      <td>NaN</td>\n",
       "      <td>NaN</td>\n",
       "      <td>NaN</td>\n",
       "      <td>NaN</td>\n",
       "    </tr>\n",
       "    <tr>\n",
       "      <th>mean</th>\n",
       "      <td>NaN</td>\n",
       "      <td>37.673249</td>\n",
       "      <td>8.445656</td>\n",
       "      <td>746.450735</td>\n",
       "      <td>31.520372</td>\n",
       "      <td>50.543476</td>\n",
       "    </tr>\n",
       "    <tr>\n",
       "      <th>std</th>\n",
       "      <td>NaN</td>\n",
       "      <td>27.482859</td>\n",
       "      <td>7.093991</td>\n",
       "      <td>396.815305</td>\n",
       "      <td>23.807203</td>\n",
       "      <td>26.432759</td>\n",
       "    </tr>\n",
       "    <tr>\n",
       "      <th>min</th>\n",
       "      <td>NaN</td>\n",
       "      <td>0.100000</td>\n",
       "      <td>1.750000</td>\n",
       "      <td>226.250000</td>\n",
       "      <td>0.160000</td>\n",
       "      <td>0.120000</td>\n",
       "    </tr>\n",
       "    <tr>\n",
       "      <th>25%</th>\n",
       "      <td>NaN</td>\n",
       "      <td>20.610000</td>\n",
       "      <td>4.290000</td>\n",
       "      <td>494.655000</td>\n",
       "      <td>13.775000</td>\n",
       "      <td>30.250000</td>\n",
       "    </tr>\n",
       "    <tr>\n",
       "      <th>50%</th>\n",
       "      <td>NaN</td>\n",
       "      <td>30.550000</td>\n",
       "      <td>5.360000</td>\n",
       "      <td>609.070000</td>\n",
       "      <td>24.380000</td>\n",
       "      <td>47.280000</td>\n",
       "    </tr>\n",
       "    <tr>\n",
       "      <th>75%</th>\n",
       "      <td>NaN</td>\n",
       "      <td>46.635000</td>\n",
       "      <td>10.060000</td>\n",
       "      <td>881.050000</td>\n",
       "      <td>42.370000</td>\n",
       "      <td>70.810000</td>\n",
       "    </tr>\n",
       "    <tr>\n",
       "      <th>max</th>\n",
       "      <td>NaN</td>\n",
       "      <td>282.590000</td>\n",
       "      <td>75.170000</td>\n",
       "      <td>4773.810000</td>\n",
       "      <td>168.110000</td>\n",
       "      <td>127.720000</td>\n",
       "    </tr>\n",
       "  </tbody>\n",
       "</table>\n",
       "</div>"
      ],
      "text/plain": [
       "                      Tarih         PM10          SO2           CO  \\\n",
       "count                  8760  8616.000000  8681.000000  8663.000000   \n",
       "unique                 8760          NaN          NaN          NaN   \n",
       "top     2019-02-08 17:00:56          NaN          NaN          NaN   \n",
       "freq                      1          NaN          NaN          NaN   \n",
       "first   2019-01-01 00:00:56          NaN          NaN          NaN   \n",
       "last    2019-12-31 23:00:56          NaN          NaN          NaN   \n",
       "mean                    NaN    37.673249     8.445656   746.450735   \n",
       "std                     NaN    27.482859     7.093991   396.815305   \n",
       "min                     NaN     0.100000     1.750000   226.250000   \n",
       "25%                     NaN    20.610000     4.290000   494.655000   \n",
       "50%                     NaN    30.550000     5.360000   609.070000   \n",
       "75%                     NaN    46.635000    10.060000   881.050000   \n",
       "max                     NaN   282.590000    75.170000  4773.810000   \n",
       "\n",
       "                NO2           O3  \n",
       "count   8299.000000  8706.000000  \n",
       "unique          NaN          NaN  \n",
       "top             NaN          NaN  \n",
       "freq            NaN          NaN  \n",
       "first           NaN          NaN  \n",
       "last            NaN          NaN  \n",
       "mean      31.520372    50.543476  \n",
       "std       23.807203    26.432759  \n",
       "min        0.160000     0.120000  \n",
       "25%       13.775000    30.250000  \n",
       "50%       24.380000    47.280000  \n",
       "75%       42.370000    70.810000  \n",
       "max      168.110000   127.720000  "
      ]
     },
     "execution_count": 117,
     "metadata": {},
     "output_type": "execute_result"
    }
   ],
   "source": [
    "df.describe(include = 'all')"
   ]
  },
  {
   "cell_type": "code",
   "execution_count": 118,
   "metadata": {},
   "outputs": [
    {
     "data": {
      "text/html": [
       "<div>\n",
       "<style scoped>\n",
       "    .dataframe tbody tr th:only-of-type {\n",
       "        vertical-align: middle;\n",
       "    }\n",
       "\n",
       "    .dataframe tbody tr th {\n",
       "        vertical-align: top;\n",
       "    }\n",
       "\n",
       "    .dataframe thead th {\n",
       "        text-align: right;\n",
       "    }\n",
       "</style>\n",
       "<table border=\"1\" class=\"dataframe\">\n",
       "  <thead>\n",
       "    <tr style=\"text-align: right;\">\n",
       "      <th></th>\n",
       "      <th>Tarih</th>\n",
       "      <th>PM10</th>\n",
       "      <th>SO2</th>\n",
       "      <th>CO</th>\n",
       "      <th>NO2</th>\n",
       "      <th>O3</th>\n",
       "    </tr>\n",
       "  </thead>\n",
       "  <tbody>\n",
       "    <tr>\n",
       "      <th>count</th>\n",
       "      <td>90</td>\n",
       "      <td>90.000000</td>\n",
       "      <td>90.000000</td>\n",
       "      <td>90.000000</td>\n",
       "      <td>90.000000</td>\n",
       "      <td>90.000000</td>\n",
       "    </tr>\n",
       "    <tr>\n",
       "      <th>unique</th>\n",
       "      <td>90</td>\n",
       "      <td>NaN</td>\n",
       "      <td>NaN</td>\n",
       "      <td>NaN</td>\n",
       "      <td>NaN</td>\n",
       "      <td>NaN</td>\n",
       "    </tr>\n",
       "    <tr>\n",
       "      <th>top</th>\n",
       "      <td>2019-03-05 00:00:56</td>\n",
       "      <td>NaN</td>\n",
       "      <td>NaN</td>\n",
       "      <td>NaN</td>\n",
       "      <td>NaN</td>\n",
       "      <td>NaN</td>\n",
       "    </tr>\n",
       "    <tr>\n",
       "      <th>freq</th>\n",
       "      <td>1</td>\n",
       "      <td>NaN</td>\n",
       "      <td>NaN</td>\n",
       "      <td>NaN</td>\n",
       "      <td>NaN</td>\n",
       "      <td>NaN</td>\n",
       "    </tr>\n",
       "    <tr>\n",
       "      <th>first</th>\n",
       "      <td>2019-01-01 00:00:56</td>\n",
       "      <td>NaN</td>\n",
       "      <td>NaN</td>\n",
       "      <td>NaN</td>\n",
       "      <td>NaN</td>\n",
       "      <td>NaN</td>\n",
       "    </tr>\n",
       "    <tr>\n",
       "      <th>last</th>\n",
       "      <td>2019-03-31 00:00:56</td>\n",
       "      <td>NaN</td>\n",
       "      <td>NaN</td>\n",
       "      <td>NaN</td>\n",
       "      <td>NaN</td>\n",
       "      <td>NaN</td>\n",
       "    </tr>\n",
       "    <tr>\n",
       "      <th>mean</th>\n",
       "      <td>NaN</td>\n",
       "      <td>45.243778</td>\n",
       "      <td>13.936889</td>\n",
       "      <td>1058.395778</td>\n",
       "      <td>44.643222</td>\n",
       "      <td>43.973778</td>\n",
       "    </tr>\n",
       "    <tr>\n",
       "      <th>std</th>\n",
       "      <td>NaN</td>\n",
       "      <td>17.179849</td>\n",
       "      <td>3.625620</td>\n",
       "      <td>204.685503</td>\n",
       "      <td>10.521943</td>\n",
       "      <td>14.306172</td>\n",
       "    </tr>\n",
       "    <tr>\n",
       "      <th>min</th>\n",
       "      <td>NaN</td>\n",
       "      <td>21.490000</td>\n",
       "      <td>8.750000</td>\n",
       "      <td>738.230000</td>\n",
       "      <td>29.450000</td>\n",
       "      <td>12.620000</td>\n",
       "    </tr>\n",
       "    <tr>\n",
       "      <th>25%</th>\n",
       "      <td>NaN</td>\n",
       "      <td>34.255000</td>\n",
       "      <td>11.280000</td>\n",
       "      <td>924.970000</td>\n",
       "      <td>37.572500</td>\n",
       "      <td>32.372500</td>\n",
       "    </tr>\n",
       "    <tr>\n",
       "      <th>50%</th>\n",
       "      <td>NaN</td>\n",
       "      <td>39.595000</td>\n",
       "      <td>13.140000</td>\n",
       "      <td>990.830000</td>\n",
       "      <td>42.530000</td>\n",
       "      <td>44.055000</td>\n",
       "    </tr>\n",
       "    <tr>\n",
       "      <th>75%</th>\n",
       "      <td>NaN</td>\n",
       "      <td>57.277500</td>\n",
       "      <td>15.605000</td>\n",
       "      <td>1148.470000</td>\n",
       "      <td>49.007500</td>\n",
       "      <td>55.525000</td>\n",
       "    </tr>\n",
       "    <tr>\n",
       "      <th>max</th>\n",
       "      <td>NaN</td>\n",
       "      <td>100.740000</td>\n",
       "      <td>26.030000</td>\n",
       "      <td>1793.210000</td>\n",
       "      <td>77.580000</td>\n",
       "      <td>77.670000</td>\n",
       "    </tr>\n",
       "  </tbody>\n",
       "</table>\n",
       "</div>"
      ],
      "text/plain": [
       "                      Tarih        PM10        SO2           CO        NO2  \\\n",
       "count                    90   90.000000  90.000000    90.000000  90.000000   \n",
       "unique                   90         NaN        NaN          NaN        NaN   \n",
       "top     2019-03-05 00:00:56         NaN        NaN          NaN        NaN   \n",
       "freq                      1         NaN        NaN          NaN        NaN   \n",
       "first   2019-01-01 00:00:56         NaN        NaN          NaN        NaN   \n",
       "last    2019-03-31 00:00:56         NaN        NaN          NaN        NaN   \n",
       "mean                    NaN   45.243778  13.936889  1058.395778  44.643222   \n",
       "std                     NaN   17.179849   3.625620   204.685503  10.521943   \n",
       "min                     NaN   21.490000   8.750000   738.230000  29.450000   \n",
       "25%                     NaN   34.255000  11.280000   924.970000  37.572500   \n",
       "50%                     NaN   39.595000  13.140000   990.830000  42.530000   \n",
       "75%                     NaN   57.277500  15.605000  1148.470000  49.007500   \n",
       "max                     NaN  100.740000  26.030000  1793.210000  77.580000   \n",
       "\n",
       "               O3  \n",
       "count   90.000000  \n",
       "unique        NaN  \n",
       "top           NaN  \n",
       "freq          NaN  \n",
       "first         NaN  \n",
       "last          NaN  \n",
       "mean    43.973778  \n",
       "std     14.306172  \n",
       "min     12.620000  \n",
       "25%     32.372500  \n",
       "50%     44.055000  \n",
       "75%     55.525000  \n",
       "max     77.670000  "
      ]
     },
     "execution_count": 118,
     "metadata": {},
     "output_type": "execute_result"
    }
   ],
   "source": [
    "dfgünlük.describe(include = 'all')"
   ]
  },
  {
   "cell_type": "code",
   "execution_count": 119,
   "metadata": {},
   "outputs": [
    {
     "data": {
      "text/plain": [
       "Tarih    8760\n",
       "PM10     4880\n",
       "SO2      2041\n",
       "CO       8199\n",
       "NO2      4692\n",
       "O3       5723\n",
       "dtype: int64"
      ]
     },
     "execution_count": 119,
     "metadata": {},
     "output_type": "execute_result"
    }
   ],
   "source": [
    "df.nunique()"
   ]
  },
  {
   "cell_type": "code",
   "execution_count": 120,
   "metadata": {},
   "outputs": [
    {
     "data": {
      "text/plain": [
       "True"
      ]
     },
     "execution_count": 120,
     "metadata": {},
     "output_type": "execute_result"
    }
   ],
   "source": [
    "df.isnull().values.any()"
   ]
  },
  {
   "cell_type": "code",
   "execution_count": 121,
   "metadata": {},
   "outputs": [
    {
     "data": {
      "text/plain": [
       "Tarih      0\n",
       "PM10     144\n",
       "SO2       79\n",
       "CO        97\n",
       "NO2      461\n",
       "O3        54\n",
       "dtype: int64"
      ]
     },
     "execution_count": 121,
     "metadata": {},
     "output_type": "execute_result"
    }
   ],
   "source": [
    "df.isnull().sum()# Boş değerler"
   ]
  },
  {
   "cell_type": "code",
   "execution_count": 122,
   "metadata": {},
   "outputs": [
    {
     "data": {
      "text/html": [
       "<div>\n",
       "<style scoped>\n",
       "    .dataframe tbody tr th:only-of-type {\n",
       "        vertical-align: middle;\n",
       "    }\n",
       "\n",
       "    .dataframe tbody tr th {\n",
       "        vertical-align: top;\n",
       "    }\n",
       "\n",
       "    .dataframe thead th {\n",
       "        text-align: right;\n",
       "    }\n",
       "</style>\n",
       "<table border=\"1\" class=\"dataframe\">\n",
       "  <thead>\n",
       "    <tr style=\"text-align: right;\">\n",
       "      <th></th>\n",
       "      <th>PM10</th>\n",
       "      <th>SO2</th>\n",
       "      <th>CO</th>\n",
       "      <th>NO2</th>\n",
       "      <th>O3</th>\n",
       "    </tr>\n",
       "  </thead>\n",
       "  <tbody>\n",
       "    <tr>\n",
       "      <th>PM10</th>\n",
       "      <td>295.147224</td>\n",
       "      <td>35.998980</td>\n",
       "      <td>2490.948971</td>\n",
       "      <td>148.451518</td>\n",
       "      <td>-135.504685</td>\n",
       "    </tr>\n",
       "    <tr>\n",
       "      <th>SO2</th>\n",
       "      <td>35.998980</td>\n",
       "      <td>13.145123</td>\n",
       "      <td>569.422011</td>\n",
       "      <td>30.827122</td>\n",
       "      <td>-21.048698</td>\n",
       "    </tr>\n",
       "    <tr>\n",
       "      <th>CO</th>\n",
       "      <td>2490.948971</td>\n",
       "      <td>569.422011</td>\n",
       "      <td>41896.155128</td>\n",
       "      <td>1856.030320</td>\n",
       "      <td>-1882.982497</td>\n",
       "    </tr>\n",
       "    <tr>\n",
       "      <th>NO2</th>\n",
       "      <td>148.451518</td>\n",
       "      <td>30.827122</td>\n",
       "      <td>1856.030320</td>\n",
       "      <td>110.711285</td>\n",
       "      <td>-83.097110</td>\n",
       "    </tr>\n",
       "    <tr>\n",
       "      <th>O3</th>\n",
       "      <td>-135.504685</td>\n",
       "      <td>-21.048698</td>\n",
       "      <td>-1882.982497</td>\n",
       "      <td>-83.097110</td>\n",
       "      <td>204.666563</td>\n",
       "    </tr>\n",
       "  </tbody>\n",
       "</table>\n",
       "</div>"
      ],
      "text/plain": [
       "             PM10         SO2            CO          NO2           O3\n",
       "PM10   295.147224   35.998980   2490.948971   148.451518  -135.504685\n",
       "SO2     35.998980   13.145123    569.422011    30.827122   -21.048698\n",
       "CO    2490.948971  569.422011  41896.155128  1856.030320 -1882.982497\n",
       "NO2    148.451518   30.827122   1856.030320   110.711285   -83.097110\n",
       "O3    -135.504685  -21.048698  -1882.982497   -83.097110   204.666563"
      ]
     },
     "execution_count": 122,
     "metadata": {},
     "output_type": "execute_result"
    }
   ],
   "source": [
    "dfgünlük.cov()"
   ]
  },
  {
   "cell_type": "code",
   "execution_count": 123,
   "metadata": {},
   "outputs": [
    {
     "data": {
      "text/html": [
       "<div>\n",
       "<style scoped>\n",
       "    .dataframe tbody tr th:only-of-type {\n",
       "        vertical-align: middle;\n",
       "    }\n",
       "\n",
       "    .dataframe tbody tr th {\n",
       "        vertical-align: top;\n",
       "    }\n",
       "\n",
       "    .dataframe thead th {\n",
       "        text-align: right;\n",
       "    }\n",
       "</style>\n",
       "<table border=\"1\" class=\"dataframe\">\n",
       "  <thead>\n",
       "    <tr style=\"text-align: right;\">\n",
       "      <th></th>\n",
       "      <th>PM10</th>\n",
       "      <th>SO2</th>\n",
       "      <th>CO</th>\n",
       "      <th>NO2</th>\n",
       "      <th>O3</th>\n",
       "    </tr>\n",
       "  </thead>\n",
       "  <tbody>\n",
       "    <tr>\n",
       "      <th>PM10</th>\n",
       "      <td>755.307566</td>\n",
       "      <td>110.241559</td>\n",
       "      <td>7105.305462</td>\n",
       "      <td>407.497587</td>\n",
       "      <td>-353.844521</td>\n",
       "    </tr>\n",
       "    <tr>\n",
       "      <th>SO2</th>\n",
       "      <td>110.241559</td>\n",
       "      <td>50.324711</td>\n",
       "      <td>2134.315723</td>\n",
       "      <td>118.915413</td>\n",
       "      <td>-75.603068</td>\n",
       "    </tr>\n",
       "    <tr>\n",
       "      <th>CO</th>\n",
       "      <td>7105.305462</td>\n",
       "      <td>2134.315723</td>\n",
       "      <td>157462.386203</td>\n",
       "      <td>7578.549856</td>\n",
       "      <td>-5517.253344</td>\n",
       "    </tr>\n",
       "    <tr>\n",
       "      <th>NO2</th>\n",
       "      <td>407.497587</td>\n",
       "      <td>118.915413</td>\n",
       "      <td>7578.549856</td>\n",
       "      <td>566.782893</td>\n",
       "      <td>-305.490987</td>\n",
       "    </tr>\n",
       "    <tr>\n",
       "      <th>O3</th>\n",
       "      <td>-353.844521</td>\n",
       "      <td>-75.603068</td>\n",
       "      <td>-5517.253344</td>\n",
       "      <td>-305.490987</td>\n",
       "      <td>698.690727</td>\n",
       "    </tr>\n",
       "  </tbody>\n",
       "</table>\n",
       "</div>"
      ],
      "text/plain": [
       "             PM10          SO2             CO          NO2           O3\n",
       "PM10   755.307566   110.241559    7105.305462   407.497587  -353.844521\n",
       "SO2    110.241559    50.324711    2134.315723   118.915413   -75.603068\n",
       "CO    7105.305462  2134.315723  157462.386203  7578.549856 -5517.253344\n",
       "NO2    407.497587   118.915413    7578.549856   566.782893  -305.490987\n",
       "O3    -353.844521   -75.603068   -5517.253344  -305.490987   698.690727"
      ]
     },
     "execution_count": 123,
     "metadata": {},
     "output_type": "execute_result"
    }
   ],
   "source": [
    "df.cov()# cov Kovaryansı temsil eder .kovaryans 2 değer arasındakı ilişkinin(korelasyonun) saglıklı olup olmadıgı ve\n",
    "#hangı yonde oldugunu \n",
    "#belırtır"
   ]
  },
  {
   "cell_type": "code",
   "execution_count": 124,
   "metadata": {},
   "outputs": [
    {
     "data": {
      "text/plain": [
       "\"import numpy as np\\ndf['mass'].fillna(np.mean(df.mass), inplace = True)\\ngbi bos degerler yerıne bunu ataybılırız ama varyans analızı yapmadık \""
      ]
     },
     "execution_count": 124,
     "metadata": {},
     "output_type": "execute_result"
    }
   ],
   "source": [
    "'''import numpy as np\n",
    "df['mass'].fillna(np.mean(df.mass), inplace = True)\n",
    "gbi bos degerler yerıne bunu ataybılırız ama varyans analızı yapmadık '''"
   ]
  },
  {
   "cell_type": "code",
   "execution_count": 125,
   "metadata": {},
   "outputs": [],
   "source": [
    "#categorical data olmadıgı ıcın bunun analizini yapamıyoruz.\n",
    "#numerıc degerler oldugu ıcın onu yapabılırız aşağıdakı gıbı\n",
    "# ama dataset sadece numerıclerden olustugu ıcın df_num ile df aynı sey ama ben göstermelikde olsa yapayım dedim"
   ]
  },
  {
   "cell_type": "code",
   "execution_count": 126,
   "metadata": {},
   "outputs": [],
   "source": [
    "df_num = df.select_dtypes(include = ['float64', 'int64'])"
   ]
  },
  {
   "cell_type": "code",
   "execution_count": 127,
   "metadata": {},
   "outputs": [
    {
     "data": {
      "text/html": [
       "<div>\n",
       "<style scoped>\n",
       "    .dataframe tbody tr th:only-of-type {\n",
       "        vertical-align: middle;\n",
       "    }\n",
       "\n",
       "    .dataframe tbody tr th {\n",
       "        vertical-align: top;\n",
       "    }\n",
       "\n",
       "    .dataframe thead th {\n",
       "        text-align: right;\n",
       "    }\n",
       "</style>\n",
       "<table border=\"1\" class=\"dataframe\">\n",
       "  <thead>\n",
       "    <tr style=\"text-align: right;\">\n",
       "      <th></th>\n",
       "      <th>PM10</th>\n",
       "      <th>SO2</th>\n",
       "      <th>CO</th>\n",
       "      <th>NO2</th>\n",
       "      <th>O3</th>\n",
       "    </tr>\n",
       "  </thead>\n",
       "  <tbody>\n",
       "    <tr>\n",
       "      <th>0</th>\n",
       "      <td>36.38</td>\n",
       "      <td>11.34</td>\n",
       "      <td>1142.85</td>\n",
       "      <td>23.50</td>\n",
       "      <td>25.31</td>\n",
       "    </tr>\n",
       "    <tr>\n",
       "      <th>1</th>\n",
       "      <td>44.51</td>\n",
       "      <td>16.29</td>\n",
       "      <td>1035.89</td>\n",
       "      <td>20.76</td>\n",
       "      <td>28.43</td>\n",
       "    </tr>\n",
       "    <tr>\n",
       "      <th>2</th>\n",
       "      <td>61.78</td>\n",
       "      <td>20.84</td>\n",
       "      <td>1241.36</td>\n",
       "      <td>30.59</td>\n",
       "      <td>22.58</td>\n",
       "    </tr>\n",
       "    <tr>\n",
       "      <th>3</th>\n",
       "      <td>79.23</td>\n",
       "      <td>19.15</td>\n",
       "      <td>1123.91</td>\n",
       "      <td>29.34</td>\n",
       "      <td>25.60</td>\n",
       "    </tr>\n",
       "    <tr>\n",
       "      <th>4</th>\n",
       "      <td>83.25</td>\n",
       "      <td>21.40</td>\n",
       "      <td>1440.77</td>\n",
       "      <td>44.66</td>\n",
       "      <td>11.19</td>\n",
       "    </tr>\n",
       "  </tbody>\n",
       "</table>\n",
       "</div>"
      ],
      "text/plain": [
       "    PM10    SO2       CO    NO2     O3\n",
       "0  36.38  11.34  1142.85  23.50  25.31\n",
       "1  44.51  16.29  1035.89  20.76  28.43\n",
       "2  61.78  20.84  1241.36  30.59  22.58\n",
       "3  79.23  19.15  1123.91  29.34  25.60\n",
       "4  83.25  21.40  1440.77  44.66  11.19"
      ]
     },
     "execution_count": 127,
     "metadata": {},
     "output_type": "execute_result"
    }
   ],
   "source": [
    "df_num.head()"
   ]
  },
  {
   "cell_type": "code",
   "execution_count": 128,
   "metadata": {},
   "outputs": [
    {
     "data": {
      "text/html": [
       "<div>\n",
       "<style scoped>\n",
       "    .dataframe tbody tr th:only-of-type {\n",
       "        vertical-align: middle;\n",
       "    }\n",
       "\n",
       "    .dataframe tbody tr th {\n",
       "        vertical-align: top;\n",
       "    }\n",
       "\n",
       "    .dataframe thead th {\n",
       "        text-align: right;\n",
       "    }\n",
       "</style>\n",
       "<table border=\"1\" class=\"dataframe\">\n",
       "  <thead>\n",
       "    <tr style=\"text-align: right;\">\n",
       "      <th></th>\n",
       "      <th>count</th>\n",
       "      <th>mean</th>\n",
       "      <th>std</th>\n",
       "      <th>min</th>\n",
       "      <th>25%</th>\n",
       "      <th>50%</th>\n",
       "      <th>75%</th>\n",
       "      <th>max</th>\n",
       "    </tr>\n",
       "  </thead>\n",
       "  <tbody>\n",
       "    <tr>\n",
       "      <th>PM10</th>\n",
       "      <td>8616.0</td>\n",
       "      <td>37.673249</td>\n",
       "      <td>27.482859</td>\n",
       "      <td>0.10</td>\n",
       "      <td>20.610</td>\n",
       "      <td>30.55</td>\n",
       "      <td>46.635</td>\n",
       "      <td>282.59</td>\n",
       "    </tr>\n",
       "    <tr>\n",
       "      <th>SO2</th>\n",
       "      <td>8681.0</td>\n",
       "      <td>8.445656</td>\n",
       "      <td>7.093991</td>\n",
       "      <td>1.75</td>\n",
       "      <td>4.290</td>\n",
       "      <td>5.36</td>\n",
       "      <td>10.060</td>\n",
       "      <td>75.17</td>\n",
       "    </tr>\n",
       "    <tr>\n",
       "      <th>CO</th>\n",
       "      <td>8663.0</td>\n",
       "      <td>746.450735</td>\n",
       "      <td>396.815305</td>\n",
       "      <td>226.25</td>\n",
       "      <td>494.655</td>\n",
       "      <td>609.07</td>\n",
       "      <td>881.050</td>\n",
       "      <td>4773.81</td>\n",
       "    </tr>\n",
       "    <tr>\n",
       "      <th>NO2</th>\n",
       "      <td>8299.0</td>\n",
       "      <td>31.520372</td>\n",
       "      <td>23.807203</td>\n",
       "      <td>0.16</td>\n",
       "      <td>13.775</td>\n",
       "      <td>24.38</td>\n",
       "      <td>42.370</td>\n",
       "      <td>168.11</td>\n",
       "    </tr>\n",
       "    <tr>\n",
       "      <th>O3</th>\n",
       "      <td>8706.0</td>\n",
       "      <td>50.543476</td>\n",
       "      <td>26.432759</td>\n",
       "      <td>0.12</td>\n",
       "      <td>30.250</td>\n",
       "      <td>47.28</td>\n",
       "      <td>70.810</td>\n",
       "      <td>127.72</td>\n",
       "    </tr>\n",
       "  </tbody>\n",
       "</table>\n",
       "</div>"
      ],
      "text/plain": [
       "       count        mean         std     min      25%     50%      75%  \\\n",
       "PM10  8616.0   37.673249   27.482859    0.10   20.610   30.55   46.635   \n",
       "SO2   8681.0    8.445656    7.093991    1.75    4.290    5.36   10.060   \n",
       "CO    8663.0  746.450735  396.815305  226.25  494.655  609.07  881.050   \n",
       "NO2   8299.0   31.520372   23.807203    0.16   13.775   24.38   42.370   \n",
       "O3    8706.0   50.543476   26.432759    0.12   30.250   47.28   70.810   \n",
       "\n",
       "          max  \n",
       "PM10   282.59  \n",
       "SO2     75.17  \n",
       "CO    4773.81  \n",
       "NO2    168.11  \n",
       "O3     127.72  "
      ]
     },
     "execution_count": 128,
     "metadata": {},
     "output_type": "execute_result"
    }
   ],
   "source": [
    "df_num.describe().T"
   ]
  },
  {
   "cell_type": "code",
   "execution_count": 129,
   "metadata": {},
   "outputs": [
    {
     "name": "stdout",
     "output_type": "stream",
     "text": [
      "Ortalama: 37.67324860724236\n",
      "Dolu Gözlem Sayısı: 8616\n",
      "Maksimum Değer: 282.59\n",
      "Minimum Değer: 0.1\n",
      "Medyan: 30.55\n",
      "Standart Sapma: 27.482859493506353\n"
     ]
    }
   ],
   "source": [
    "print(\"Ortalama: \" + str(df_num[\"PM10\"].mean()))\n",
    "print(\"Dolu Gözlem Sayısı: \" + str(df_num[\"PM10\"].count())) \n",
    "print(\"Maksimum Değer: \" + str(df_num[\"PM10\"].max()))\n",
    "print(\"Minimum Değer: \" + str(df_num[\"PM10\"].min()))\n",
    "print(\"Medyan: \" + str(df_num[\"PM10\"].median()))\n",
    "print(\"Standart Sapma: \" + str(df_num[\"PM10\"].std()))"
   ]
  },
  {
   "cell_type": "code",
   "execution_count": 130,
   "metadata": {},
   "outputs": [
    {
     "name": "stdout",
     "output_type": "stream",
     "text": [
      "Ortalama: 8.44565603041124\n",
      "Dolu Gözlem Sayısı: 8681\n",
      "Maksimum Değer: 75.17\n",
      "Minimum Değer: 1.75\n",
      "Medyan: 5.36\n",
      "Standart Sapma: 7.093991207668816\n"
     ]
    }
   ],
   "source": [
    "print(\"Ortalama: \" + str(df_num[\"SO2\"].mean()))\n",
    "print(\"Dolu Gözlem Sayısı: \" + str(df_num[\"SO2\"].count())) \n",
    "print(\"Maksimum Değer: \" + str(df_num[\"SO2\"].max()))\n",
    "print(\"Minimum Değer: \" + str(df_num[\"SO2\"].min()))\n",
    "print(\"Medyan: \" + str(df_num[\"SO2\"].median()))\n",
    "print(\"Standart Sapma: \" + str(df_num[\"SO2\"].std()))"
   ]
  },
  {
   "cell_type": "code",
   "execution_count": 131,
   "metadata": {},
   "outputs": [
    {
     "name": "stdout",
     "output_type": "stream",
     "text": [
      "Ortalama: 746.450735311093\n",
      "Dolu Gözlem Sayısı: 8663\n",
      "Maksimum Değer: 4773.81\n",
      "Minimum Değer: 226.25\n",
      "Medyan: 609.07\n",
      "Standart Sapma: 396.81530489989376\n"
     ]
    }
   ],
   "source": [
    "print(\"Ortalama: \" + str(df_num[\"CO\"].mean()))\n",
    "print(\"Dolu Gözlem Sayısı: \" + str(df_num[\"CO\"].count())) \n",
    "print(\"Maksimum Değer: \" + str(df_num[\"CO\"].max()))\n",
    "print(\"Minimum Değer: \" + str(df_num[\"CO\"].min()))\n",
    "print(\"Medyan: \" + str(df_num[\"CO\"].median()))\n",
    "print(\"Standart Sapma: \" + str(df_num[\"CO\"].std()))"
   ]
  },
  {
   "cell_type": "code",
   "execution_count": 132,
   "metadata": {},
   "outputs": [
    {
     "name": "stdout",
     "output_type": "stream",
     "text": [
      "Ortalama: 31.520372334016113\n",
      "Dolu Gözlem Sayısı: 8299\n",
      "Maksimum Değer: 168.11\n",
      "Minimum Değer: 0.16\n",
      "Medyan: 24.38\n",
      "Standart Sapma: 23.80720253710512\n"
     ]
    }
   ],
   "source": [
    "print(\"Ortalama: \" + str(df_num[\"NO2\"].mean()))\n",
    "print(\"Dolu Gözlem Sayısı: \" + str(df_num[\"NO2\"].count())) \n",
    "print(\"Maksimum Değer: \" + str(df_num[\"NO2\"].max()))\n",
    "print(\"Minimum Değer: \" + str(df_num[\"NO2\"].min()))\n",
    "print(\"Medyan: \" + str(df_num[\"NO2\"].median()))\n",
    "print(\"Standart Sapma: \" + str(df_num[\"NO2\"].std()))"
   ]
  },
  {
   "cell_type": "code",
   "execution_count": 133,
   "metadata": {},
   "outputs": [
    {
     "name": "stdout",
     "output_type": "stream",
     "text": [
      "Ortalama: 50.543475763841016\n",
      "Dolu Gözlem Sayısı: 8706\n",
      "Maksimum Değer: 127.72\n",
      "Minimum Değer: 0.12\n",
      "Medyan: 47.28\n",
      "Standart Sapma: 26.432758597601552\n"
     ]
    }
   ],
   "source": [
    "print(\"Ortalama: \" + str(df_num[\"O3\"].mean()))\n",
    "print(\"Dolu Gözlem Sayısı: \" + str(df_num[\"O3\"].count())) \n",
    "print(\"Maksimum Değer: \" + str(df_num[\"O3\"].max()))\n",
    "print(\"Minimum Değer: \" + str(df_num[\"O3\"].min()))\n",
    "print(\"Medyan: \" + str(df_num[\"O3\"].median()))\n",
    "print(\"Standart Sapma: \" + str(df_num[\"O3\"].std()))"
   ]
  },
  {
   "cell_type": "code",
   "execution_count": 134,
   "metadata": {},
   "outputs": [
    {
     "data": {
      "image/png": "[encoded data removed]",
      "text/plain": [
       "<Figure size 432x288 with 1 Axes>"
      ]
     },
     "metadata": {
      "needs_background": "light"
     },
     "output_type": "display_data"
    }
   ],
   "source": [
    "sns.barplot(x = dfgünlük.NO2.index, y = 'NO2' , data = dfgünlük);"
   ]
  },
  {
   "cell_type": "code",
   "execution_count": 135,
   "metadata": {},
   "outputs": [
    {
     "data": {
      "text/plain": [
       "'%config InlineBackend.figure_format = \\'retina\\'\\nsns.catplot(x = \\'CO\\', y = \\'NO2\\', hue = \"NO2\", data = dfgünlük);'"
      ]
     },
     "execution_count": 135,
     "metadata": {},
     "output_type": "execute_result"
    }
   ],
   "source": [
    "'''%config InlineBackend.figure_format = 'retina'\n",
    "sns.catplot(x = 'CO', y = 'NO2', hue = \"NO2\", data = dfgünlük);'''"
   ]
  },
  {
   "cell_type": "code",
   "execution_count": 136,
   "metadata": {},
   "outputs": [],
   "source": [
    "#sns.catplot(x = 'NO2', y = 'CO', hue = 'NO2', kind = 'point', data = dfgünlük);"
   ]
  },
  {
   "cell_type": "code",
   "execution_count": 137,
   "metadata": {},
   "outputs": [],
   "source": [
    "#sns.pairplot(dfgünlük, vars = ['NO2','CO']);"
   ]
  },
  {
   "cell_type": "code",
   "execution_count": 138,
   "metadata": {},
   "outputs": [
    {
     "data": {
      "text/plain": [
       "'g = sns.PairGrid(dfgünlük, diag_sharey = False)\\ng.map_lower(sns.kdeplot)\\ng.map_upper(sns.scatterplot)\\ng.map_diag(sns.kdeplot, lw = 3)'"
      ]
     },
     "execution_count": 138,
     "metadata": {},
     "output_type": "execute_result"
    }
   ],
   "source": [
    "'''g = sns.PairGrid(dfgünlük, diag_sharey = False)\n",
    "g.map_lower(sns.kdeplot)\n",
    "g.map_upper(sns.scatterplot)\n",
    "g.map_diag(sns.kdeplot, lw = 3)'''"
   ]
  },
  {
   "cell_type": "code",
   "execution_count": 139,
   "metadata": {},
   "outputs": [
    {
     "data": {
      "text/html": [
       "<div>\n",
       "<style scoped>\n",
       "    .dataframe tbody tr th:only-of-type {\n",
       "        vertical-align: middle;\n",
       "    }\n",
       "\n",
       "    .dataframe tbody tr th {\n",
       "        vertical-align: top;\n",
       "    }\n",
       "\n",
       "    .dataframe thead th {\n",
       "        text-align: right;\n",
       "    }\n",
       "</style>\n",
       "<table border=\"1\" class=\"dataframe\">\n",
       "  <thead>\n",
       "    <tr style=\"text-align: right;\">\n",
       "      <th>NO2</th>\n",
       "      <th>NaN</th>\n",
       "      <th>0.16</th>\n",
       "      <th>0.97</th>\n",
       "      <th>1.56</th>\n",
       "      <th>1.66</th>\n",
       "      <th>2.02</th>\n",
       "      <th>2.08</th>\n",
       "      <th>2.17</th>\n",
       "      <th>2.20</th>\n",
       "      <th>2.31</th>\n",
       "      <th>...</th>\n",
       "      <th>143.22</th>\n",
       "      <th>143.68</th>\n",
       "      <th>144.19</th>\n",
       "      <th>144.46</th>\n",
       "      <th>146.20</th>\n",
       "      <th>147.14</th>\n",
       "      <th>157.18</th>\n",
       "      <th>159.42</th>\n",
       "      <th>161.03</th>\n",
       "      <th>168.11</th>\n",
       "    </tr>\n",
       "    <tr>\n",
       "      <th>Tarih</th>\n",
       "      <th></th>\n",
       "      <th></th>\n",
       "      <th></th>\n",
       "      <th></th>\n",
       "      <th></th>\n",
       "      <th></th>\n",
       "      <th></th>\n",
       "      <th></th>\n",
       "      <th></th>\n",
       "      <th></th>\n",
       "      <th></th>\n",
       "      <th></th>\n",
       "      <th></th>\n",
       "      <th></th>\n",
       "      <th></th>\n",
       "      <th></th>\n",
       "      <th></th>\n",
       "      <th></th>\n",
       "      <th></th>\n",
       "      <th></th>\n",
       "      <th></th>\n",
       "    </tr>\n",
       "  </thead>\n",
       "  <tbody>\n",
       "    <tr>\n",
       "      <th>2019-01-01 00:00:56</th>\n",
       "      <td>NaN</td>\n",
       "      <td>NaN</td>\n",
       "      <td>NaN</td>\n",
       "      <td>NaN</td>\n",
       "      <td>NaN</td>\n",
       "      <td>NaN</td>\n",
       "      <td>NaN</td>\n",
       "      <td>NaN</td>\n",
       "      <td>NaN</td>\n",
       "      <td>NaN</td>\n",
       "      <td>...</td>\n",
       "      <td>NaN</td>\n",
       "      <td>NaN</td>\n",
       "      <td>NaN</td>\n",
       "      <td>NaN</td>\n",
       "      <td>NaN</td>\n",
       "      <td>NaN</td>\n",
       "      <td>NaN</td>\n",
       "      <td>NaN</td>\n",
       "      <td>NaN</td>\n",
       "      <td>NaN</td>\n",
       "    </tr>\n",
       "    <tr>\n",
       "      <th>2019-01-01 01:00:56</th>\n",
       "      <td>NaN</td>\n",
       "      <td>NaN</td>\n",
       "      <td>NaN</td>\n",
       "      <td>NaN</td>\n",
       "      <td>NaN</td>\n",
       "      <td>NaN</td>\n",
       "      <td>NaN</td>\n",
       "      <td>NaN</td>\n",
       "      <td>NaN</td>\n",
       "      <td>NaN</td>\n",
       "      <td>...</td>\n",
       "      <td>NaN</td>\n",
       "      <td>NaN</td>\n",
       "      <td>NaN</td>\n",
       "      <td>NaN</td>\n",
       "      <td>NaN</td>\n",
       "      <td>NaN</td>\n",
       "      <td>NaN</td>\n",
       "      <td>NaN</td>\n",
       "      <td>NaN</td>\n",
       "      <td>NaN</td>\n",
       "    </tr>\n",
       "    <tr>\n",
       "      <th>2019-01-01 02:00:56</th>\n",
       "      <td>NaN</td>\n",
       "      <td>NaN</td>\n",
       "      <td>NaN</td>\n",
       "      <td>NaN</td>\n",
       "      <td>NaN</td>\n",
       "      <td>NaN</td>\n",
       "      <td>NaN</td>\n",
       "      <td>NaN</td>\n",
       "      <td>NaN</td>\n",
       "      <td>NaN</td>\n",
       "      <td>...</td>\n",
       "      <td>NaN</td>\n",
       "      <td>NaN</td>\n",
       "      <td>NaN</td>\n",
       "      <td>NaN</td>\n",
       "      <td>NaN</td>\n",
       "      <td>NaN</td>\n",
       "      <td>NaN</td>\n",
       "      <td>NaN</td>\n",
       "      <td>NaN</td>\n",
       "      <td>NaN</td>\n",
       "    </tr>\n",
       "    <tr>\n",
       "      <th>2019-01-01 03:00:56</th>\n",
       "      <td>NaN</td>\n",
       "      <td>NaN</td>\n",
       "      <td>NaN</td>\n",
       "      <td>NaN</td>\n",
       "      <td>NaN</td>\n",
       "      <td>NaN</td>\n",
       "      <td>NaN</td>\n",
       "      <td>NaN</td>\n",
       "      <td>NaN</td>\n",
       "      <td>NaN</td>\n",
       "      <td>...</td>\n",
       "      <td>NaN</td>\n",
       "      <td>NaN</td>\n",
       "      <td>NaN</td>\n",
       "      <td>NaN</td>\n",
       "      <td>NaN</td>\n",
       "      <td>NaN</td>\n",
       "      <td>NaN</td>\n",
       "      <td>NaN</td>\n",
       "      <td>NaN</td>\n",
       "      <td>NaN</td>\n",
       "    </tr>\n",
       "    <tr>\n",
       "      <th>2019-01-01 04:00:56</th>\n",
       "      <td>NaN</td>\n",
       "      <td>NaN</td>\n",
       "      <td>NaN</td>\n",
       "      <td>NaN</td>\n",
       "      <td>NaN</td>\n",
       "      <td>NaN</td>\n",
       "      <td>NaN</td>\n",
       "      <td>NaN</td>\n",
       "      <td>NaN</td>\n",
       "      <td>NaN</td>\n",
       "      <td>...</td>\n",
       "      <td>NaN</td>\n",
       "      <td>NaN</td>\n",
       "      <td>NaN</td>\n",
       "      <td>NaN</td>\n",
       "      <td>NaN</td>\n",
       "      <td>NaN</td>\n",
       "      <td>NaN</td>\n",
       "      <td>NaN</td>\n",
       "      <td>NaN</td>\n",
       "      <td>NaN</td>\n",
       "    </tr>\n",
       "  </tbody>\n",
       "</table>\n",
       "<p>5 rows × 4693 columns</p>\n",
       "</div>"
      ],
      "text/plain": [
       "NO2                  NaN     0.16    0.97    1.56    1.66    2.02    2.08    \\\n",
       "Tarih                                                                         \n",
       "2019-01-01 00:00:56     NaN     NaN     NaN     NaN     NaN     NaN     NaN   \n",
       "2019-01-01 01:00:56     NaN     NaN     NaN     NaN     NaN     NaN     NaN   \n",
       "2019-01-01 02:00:56     NaN     NaN     NaN     NaN     NaN     NaN     NaN   \n",
       "2019-01-01 03:00:56     NaN     NaN     NaN     NaN     NaN     NaN     NaN   \n",
       "2019-01-01 04:00:56     NaN     NaN     NaN     NaN     NaN     NaN     NaN   \n",
       "\n",
       "NO2                  2.17    2.20    2.31    ...  143.22  143.68  144.19  \\\n",
       "Tarih                                        ...                           \n",
       "2019-01-01 00:00:56     NaN     NaN     NaN  ...     NaN     NaN     NaN   \n",
       "2019-01-01 01:00:56     NaN     NaN     NaN  ...     NaN     NaN     NaN   \n",
       "2019-01-01 02:00:56     NaN     NaN     NaN  ...     NaN     NaN     NaN   \n",
       "2019-01-01 03:00:56     NaN     NaN     NaN  ...     NaN     NaN     NaN   \n",
       "2019-01-01 04:00:56     NaN     NaN     NaN  ...     NaN     NaN     NaN   \n",
       "\n",
       "NO2                  144.46  146.20  147.14  157.18  159.42  161.03  168.11  \n",
       "Tarih                                                                        \n",
       "2019-01-01 00:00:56     NaN     NaN     NaN     NaN     NaN     NaN     NaN  \n",
       "2019-01-01 01:00:56     NaN     NaN     NaN     NaN     NaN     NaN     NaN  \n",
       "2019-01-01 02:00:56     NaN     NaN     NaN     NaN     NaN     NaN     NaN  \n",
       "2019-01-01 03:00:56     NaN     NaN     NaN     NaN     NaN     NaN     NaN  \n",
       "2019-01-01 04:00:56     NaN     NaN     NaN     NaN     NaN     NaN     NaN  \n",
       "\n",
       "[5 rows x 4693 columns]"
      ]
     },
     "execution_count": 139,
     "metadata": {},
     "output_type": "execute_result"
    }
   ],
   "source": [
    "pivot = df.pivot(\"Tarih\",\"NO2\",\"CO\")\n",
    "pivot.head()"
   ]
  },
  {
   "cell_type": "code",
   "execution_count": 140,
   "metadata": {},
   "outputs": [],
   "source": [
    "#sns.heatmap(pivot);"
   ]
  },
  {
   "cell_type": "code",
   "execution_count": 141,
   "metadata": {},
   "outputs": [
    {
     "data": {
      "text/plain": [
       "count    90.000000\n",
       "mean     44.643222\n",
       "std      10.521943\n",
       "min      29.450000\n",
       "25%      37.572500\n",
       "50%      42.530000\n",
       "75%      49.007500\n",
       "max      77.580000\n",
       "Name: NO2, dtype: float64"
      ]
     },
     "execution_count": 141,
     "metadata": {},
     "output_type": "execute_result"
    }
   ],
   "source": [
    "dfgünlük['NO2'].describe()"
   ]
  },
  {
   "cell_type": "code",
   "execution_count": 142,
   "metadata": {},
   "outputs": [
    {
     "data": {
      "text/plain": [
       "count      90.000000\n",
       "mean     1058.395778\n",
       "std       204.685503\n",
       "min       738.230000\n",
       "25%       924.970000\n",
       "50%       990.830000\n",
       "75%      1148.470000\n",
       "max      1793.210000\n",
       "Name: CO, dtype: float64"
      ]
     },
     "execution_count": 142,
     "metadata": {},
     "output_type": "execute_result"
    }
   ],
   "source": [
    "dfgünlük['CO'].describe()"
   ]
  },
  {
   "cell_type": "code",
   "execution_count": 143,
   "metadata": {},
   "outputs": [
    {
     "data": {
      "image/png": "[encoded data removed]",
      "text/plain": [
       "<Figure size 432x432 with 3 Axes>"
      ]
     },
     "metadata": {
      "needs_background": "light"
     },
     "output_type": "display_data"
    }
   ],
   "source": [
    "sns.jointplot(x = 'NO2', y = 'CO', data = df, kind = \"reg\");"
   ]
  },
  {
   "cell_type": "code",
   "execution_count": 144,
   "metadata": {},
   "outputs": [
    {
     "data": {
      "text/html": [
       "<div>\n",
       "<style scoped>\n",
       "    .dataframe tbody tr th:only-of-type {\n",
       "        vertical-align: middle;\n",
       "    }\n",
       "\n",
       "    .dataframe tbody tr th {\n",
       "        vertical-align: top;\n",
       "    }\n",
       "\n",
       "    .dataframe thead th {\n",
       "        text-align: right;\n",
       "    }\n",
       "</style>\n",
       "<table border=\"1\" class=\"dataframe\">\n",
       "  <thead>\n",
       "    <tr style=\"text-align: right;\">\n",
       "      <th>NO2</th>\n",
       "      <th>0.16</th>\n",
       "      <th>0.97</th>\n",
       "      <th>1.56</th>\n",
       "      <th>1.66</th>\n",
       "      <th>2.02</th>\n",
       "      <th>2.08</th>\n",
       "      <th>2.17</th>\n",
       "      <th>2.20</th>\n",
       "      <th>2.31</th>\n",
       "      <th>2.38</th>\n",
       "      <th>...</th>\n",
       "      <th>143.22</th>\n",
       "      <th>143.68</th>\n",
       "      <th>144.19</th>\n",
       "      <th>144.46</th>\n",
       "      <th>146.20</th>\n",
       "      <th>147.14</th>\n",
       "      <th>157.18</th>\n",
       "      <th>159.42</th>\n",
       "      <th>161.03</th>\n",
       "      <th>168.11</th>\n",
       "    </tr>\n",
       "  </thead>\n",
       "  <tbody>\n",
       "    <tr>\n",
       "      <th>count</th>\n",
       "      <td>1.0</td>\n",
       "      <td>1.00</td>\n",
       "      <td>1.00</td>\n",
       "      <td>1.00</td>\n",
       "      <td>1.00</td>\n",
       "      <td>2.000000</td>\n",
       "      <td>1.00</td>\n",
       "      <td>1.00</td>\n",
       "      <td>1.00</td>\n",
       "      <td>1.00</td>\n",
       "      <td>...</td>\n",
       "      <td>1.00</td>\n",
       "      <td>1.00</td>\n",
       "      <td>1.00</td>\n",
       "      <td>1.00</td>\n",
       "      <td>1.00</td>\n",
       "      <td>1.00</td>\n",
       "      <td>1.0</td>\n",
       "      <td>1.00</td>\n",
       "      <td>1.00</td>\n",
       "      <td>1.00</td>\n",
       "    </tr>\n",
       "    <tr>\n",
       "      <th>mean</th>\n",
       "      <td>390.0</td>\n",
       "      <td>406.96</td>\n",
       "      <td>345.18</td>\n",
       "      <td>255.81</td>\n",
       "      <td>231.13</td>\n",
       "      <td>285.000000</td>\n",
       "      <td>451.27</td>\n",
       "      <td>433.54</td>\n",
       "      <td>378.24</td>\n",
       "      <td>352.74</td>\n",
       "      <td>...</td>\n",
       "      <td>4773.81</td>\n",
       "      <td>1722.68</td>\n",
       "      <td>4174.58</td>\n",
       "      <td>2238.61</td>\n",
       "      <td>2075.86</td>\n",
       "      <td>2156.91</td>\n",
       "      <td>2141.6</td>\n",
       "      <td>3821.42</td>\n",
       "      <td>3785.55</td>\n",
       "      <td>3587.53</td>\n",
       "    </tr>\n",
       "    <tr>\n",
       "      <th>std</th>\n",
       "      <td>NaN</td>\n",
       "      <td>NaN</td>\n",
       "      <td>NaN</td>\n",
       "      <td>NaN</td>\n",
       "      <td>NaN</td>\n",
       "      <td>83.085047</td>\n",
       "      <td>NaN</td>\n",
       "      <td>NaN</td>\n",
       "      <td>NaN</td>\n",
       "      <td>NaN</td>\n",
       "      <td>...</td>\n",
       "      <td>NaN</td>\n",
       "      <td>NaN</td>\n",
       "      <td>NaN</td>\n",
       "      <td>NaN</td>\n",
       "      <td>NaN</td>\n",
       "      <td>NaN</td>\n",
       "      <td>NaN</td>\n",
       "      <td>NaN</td>\n",
       "      <td>NaN</td>\n",
       "      <td>NaN</td>\n",
       "    </tr>\n",
       "    <tr>\n",
       "      <th>min</th>\n",
       "      <td>390.0</td>\n",
       "      <td>406.96</td>\n",
       "      <td>345.18</td>\n",
       "      <td>255.81</td>\n",
       "      <td>231.13</td>\n",
       "      <td>226.250000</td>\n",
       "      <td>451.27</td>\n",
       "      <td>433.54</td>\n",
       "      <td>378.24</td>\n",
       "      <td>352.74</td>\n",
       "      <td>...</td>\n",
       "      <td>4773.81</td>\n",
       "      <td>1722.68</td>\n",
       "      <td>4174.58</td>\n",
       "      <td>2238.61</td>\n",
       "      <td>2075.86</td>\n",
       "      <td>2156.91</td>\n",
       "      <td>2141.6</td>\n",
       "      <td>3821.42</td>\n",
       "      <td>3785.55</td>\n",
       "      <td>3587.53</td>\n",
       "    </tr>\n",
       "    <tr>\n",
       "      <th>25%</th>\n",
       "      <td>390.0</td>\n",
       "      <td>406.96</td>\n",
       "      <td>345.18</td>\n",
       "      <td>255.81</td>\n",
       "      <td>231.13</td>\n",
       "      <td>255.625000</td>\n",
       "      <td>451.27</td>\n",
       "      <td>433.54</td>\n",
       "      <td>378.24</td>\n",
       "      <td>352.74</td>\n",
       "      <td>...</td>\n",
       "      <td>4773.81</td>\n",
       "      <td>1722.68</td>\n",
       "      <td>4174.58</td>\n",
       "      <td>2238.61</td>\n",
       "      <td>2075.86</td>\n",
       "      <td>2156.91</td>\n",
       "      <td>2141.6</td>\n",
       "      <td>3821.42</td>\n",
       "      <td>3785.55</td>\n",
       "      <td>3587.53</td>\n",
       "    </tr>\n",
       "    <tr>\n",
       "      <th>50%</th>\n",
       "      <td>390.0</td>\n",
       "      <td>406.96</td>\n",
       "      <td>345.18</td>\n",
       "      <td>255.81</td>\n",
       "      <td>231.13</td>\n",
       "      <td>285.000000</td>\n",
       "      <td>451.27</td>\n",
       "      <td>433.54</td>\n",
       "      <td>378.24</td>\n",
       "      <td>352.74</td>\n",
       "      <td>...</td>\n",
       "      <td>4773.81</td>\n",
       "      <td>1722.68</td>\n",
       "      <td>4174.58</td>\n",
       "      <td>2238.61</td>\n",
       "      <td>2075.86</td>\n",
       "      <td>2156.91</td>\n",
       "      <td>2141.6</td>\n",
       "      <td>3821.42</td>\n",
       "      <td>3785.55</td>\n",
       "      <td>3587.53</td>\n",
       "    </tr>\n",
       "    <tr>\n",
       "      <th>75%</th>\n",
       "      <td>390.0</td>\n",
       "      <td>406.96</td>\n",
       "      <td>345.18</td>\n",
       "      <td>255.81</td>\n",
       "      <td>231.13</td>\n",
       "      <td>314.375000</td>\n",
       "      <td>451.27</td>\n",
       "      <td>433.54</td>\n",
       "      <td>378.24</td>\n",
       "      <td>352.74</td>\n",
       "      <td>...</td>\n",
       "      <td>4773.81</td>\n",
       "      <td>1722.68</td>\n",
       "      <td>4174.58</td>\n",
       "      <td>2238.61</td>\n",
       "      <td>2075.86</td>\n",
       "      <td>2156.91</td>\n",
       "      <td>2141.6</td>\n",
       "      <td>3821.42</td>\n",
       "      <td>3785.55</td>\n",
       "      <td>3587.53</td>\n",
       "    </tr>\n",
       "    <tr>\n",
       "      <th>max</th>\n",
       "      <td>390.0</td>\n",
       "      <td>406.96</td>\n",
       "      <td>345.18</td>\n",
       "      <td>255.81</td>\n",
       "      <td>231.13</td>\n",
       "      <td>343.750000</td>\n",
       "      <td>451.27</td>\n",
       "      <td>433.54</td>\n",
       "      <td>378.24</td>\n",
       "      <td>352.74</td>\n",
       "      <td>...</td>\n",
       "      <td>4773.81</td>\n",
       "      <td>1722.68</td>\n",
       "      <td>4174.58</td>\n",
       "      <td>2238.61</td>\n",
       "      <td>2075.86</td>\n",
       "      <td>2156.91</td>\n",
       "      <td>2141.6</td>\n",
       "      <td>3821.42</td>\n",
       "      <td>3785.55</td>\n",
       "      <td>3587.53</td>\n",
       "    </tr>\n",
       "  </tbody>\n",
       "</table>\n",
       "<p>8 rows × 4692 columns</p>\n",
       "</div>"
      ],
      "text/plain": [
       "NO2    0.16    0.97    1.56    1.66    2.02        2.08    2.17    2.20    \\\n",
       "count     1.0    1.00    1.00    1.00    1.00    2.000000    1.00    1.00   \n",
       "mean    390.0  406.96  345.18  255.81  231.13  285.000000  451.27  433.54   \n",
       "std       NaN     NaN     NaN     NaN     NaN   83.085047     NaN     NaN   \n",
       "min     390.0  406.96  345.18  255.81  231.13  226.250000  451.27  433.54   \n",
       "25%     390.0  406.96  345.18  255.81  231.13  255.625000  451.27  433.54   \n",
       "50%     390.0  406.96  345.18  255.81  231.13  285.000000  451.27  433.54   \n",
       "75%     390.0  406.96  345.18  255.81  231.13  314.375000  451.27  433.54   \n",
       "max     390.0  406.96  345.18  255.81  231.13  343.750000  451.27  433.54   \n",
       "\n",
       "NO2    2.31    2.38    ...   143.22   143.68   144.19   144.46   146.20  \\\n",
       "count    1.00    1.00  ...     1.00     1.00     1.00     1.00     1.00   \n",
       "mean   378.24  352.74  ...  4773.81  1722.68  4174.58  2238.61  2075.86   \n",
       "std       NaN     NaN  ...      NaN      NaN      NaN      NaN      NaN   \n",
       "min    378.24  352.74  ...  4773.81  1722.68  4174.58  2238.61  2075.86   \n",
       "25%    378.24  352.74  ...  4773.81  1722.68  4174.58  2238.61  2075.86   \n",
       "50%    378.24  352.74  ...  4773.81  1722.68  4174.58  2238.61  2075.86   \n",
       "75%    378.24  352.74  ...  4773.81  1722.68  4174.58  2238.61  2075.86   \n",
       "max    378.24  352.74  ...  4773.81  1722.68  4174.58  2238.61  2075.86   \n",
       "\n",
       "NO2     147.14  157.18   159.42   161.03   168.11  \n",
       "count     1.00     1.0     1.00     1.00     1.00  \n",
       "mean   2156.91  2141.6  3821.42  3785.55  3587.53  \n",
       "std        NaN     NaN      NaN      NaN      NaN  \n",
       "min    2156.91  2141.6  3821.42  3785.55  3587.53  \n",
       "25%    2156.91  2141.6  3821.42  3785.55  3587.53  \n",
       "50%    2156.91  2141.6  3821.42  3785.55  3587.53  \n",
       "75%    2156.91  2141.6  3821.42  3785.55  3587.53  \n",
       "max    2156.91  2141.6  3821.42  3785.55  3587.53  \n",
       "\n",
       "[8 rows x 4692 columns]"
      ]
     },
     "execution_count": 144,
     "metadata": {},
     "output_type": "execute_result"
    }
   ],
   "source": [
    "df.groupby(\"NO2\")[\"CO\"].describe().T"
   ]
  },
  {
   "cell_type": "code",
   "execution_count": 145,
   "metadata": {},
   "outputs": [
    {
     "data": {
      "text/html": [
       "<div>\n",
       "<style scoped>\n",
       "    .dataframe tbody tr th:only-of-type {\n",
       "        vertical-align: middle;\n",
       "    }\n",
       "\n",
       "    .dataframe tbody tr th {\n",
       "        vertical-align: top;\n",
       "    }\n",
       "\n",
       "    .dataframe thead th {\n",
       "        text-align: right;\n",
       "    }\n",
       "</style>\n",
       "<table border=\"1\" class=\"dataframe\">\n",
       "  <thead>\n",
       "    <tr style=\"text-align: right;\">\n",
       "      <th></th>\n",
       "      <th>count</th>\n",
       "      <th>mean</th>\n",
       "      <th>std</th>\n",
       "      <th>min</th>\n",
       "      <th>25%</th>\n",
       "      <th>50%</th>\n",
       "      <th>75%</th>\n",
       "      <th>max</th>\n",
       "    </tr>\n",
       "    <tr>\n",
       "      <th>NO2</th>\n",
       "      <th></th>\n",
       "      <th></th>\n",
       "      <th></th>\n",
       "      <th></th>\n",
       "      <th></th>\n",
       "      <th></th>\n",
       "      <th></th>\n",
       "      <th></th>\n",
       "    </tr>\n",
       "  </thead>\n",
       "  <tbody>\n",
       "    <tr>\n",
       "      <th>0.16</th>\n",
       "      <td>1.0</td>\n",
       "      <td>390.00</td>\n",
       "      <td>NaN</td>\n",
       "      <td>390.00</td>\n",
       "      <td>390.00</td>\n",
       "      <td>390.00</td>\n",
       "      <td>390.00</td>\n",
       "      <td>390.00</td>\n",
       "    </tr>\n",
       "    <tr>\n",
       "      <th>0.97</th>\n",
       "      <td>1.0</td>\n",
       "      <td>406.96</td>\n",
       "      <td>NaN</td>\n",
       "      <td>406.96</td>\n",
       "      <td>406.96</td>\n",
       "      <td>406.96</td>\n",
       "      <td>406.96</td>\n",
       "      <td>406.96</td>\n",
       "    </tr>\n",
       "    <tr>\n",
       "      <th>1.56</th>\n",
       "      <td>1.0</td>\n",
       "      <td>345.18</td>\n",
       "      <td>NaN</td>\n",
       "      <td>345.18</td>\n",
       "      <td>345.18</td>\n",
       "      <td>345.18</td>\n",
       "      <td>345.18</td>\n",
       "      <td>345.18</td>\n",
       "    </tr>\n",
       "    <tr>\n",
       "      <th>1.66</th>\n",
       "      <td>1.0</td>\n",
       "      <td>255.81</td>\n",
       "      <td>NaN</td>\n",
       "      <td>255.81</td>\n",
       "      <td>255.81</td>\n",
       "      <td>255.81</td>\n",
       "      <td>255.81</td>\n",
       "      <td>255.81</td>\n",
       "    </tr>\n",
       "    <tr>\n",
       "      <th>2.02</th>\n",
       "      <td>1.0</td>\n",
       "      <td>231.13</td>\n",
       "      <td>NaN</td>\n",
       "      <td>231.13</td>\n",
       "      <td>231.13</td>\n",
       "      <td>231.13</td>\n",
       "      <td>231.13</td>\n",
       "      <td>231.13</td>\n",
       "    </tr>\n",
       "    <tr>\n",
       "      <th>...</th>\n",
       "      <td>...</td>\n",
       "      <td>...</td>\n",
       "      <td>...</td>\n",
       "      <td>...</td>\n",
       "      <td>...</td>\n",
       "      <td>...</td>\n",
       "      <td>...</td>\n",
       "      <td>...</td>\n",
       "    </tr>\n",
       "    <tr>\n",
       "      <th>147.14</th>\n",
       "      <td>1.0</td>\n",
       "      <td>2156.91</td>\n",
       "      <td>NaN</td>\n",
       "      <td>2156.91</td>\n",
       "      <td>2156.91</td>\n",
       "      <td>2156.91</td>\n",
       "      <td>2156.91</td>\n",
       "      <td>2156.91</td>\n",
       "    </tr>\n",
       "    <tr>\n",
       "      <th>157.18</th>\n",
       "      <td>1.0</td>\n",
       "      <td>2141.60</td>\n",
       "      <td>NaN</td>\n",
       "      <td>2141.60</td>\n",
       "      <td>2141.60</td>\n",
       "      <td>2141.60</td>\n",
       "      <td>2141.60</td>\n",
       "      <td>2141.60</td>\n",
       "    </tr>\n",
       "    <tr>\n",
       "      <th>159.42</th>\n",
       "      <td>1.0</td>\n",
       "      <td>3821.42</td>\n",
       "      <td>NaN</td>\n",
       "      <td>3821.42</td>\n",
       "      <td>3821.42</td>\n",
       "      <td>3821.42</td>\n",
       "      <td>3821.42</td>\n",
       "      <td>3821.42</td>\n",
       "    </tr>\n",
       "    <tr>\n",
       "      <th>161.03</th>\n",
       "      <td>1.0</td>\n",
       "      <td>3785.55</td>\n",
       "      <td>NaN</td>\n",
       "      <td>3785.55</td>\n",
       "      <td>3785.55</td>\n",
       "      <td>3785.55</td>\n",
       "      <td>3785.55</td>\n",
       "      <td>3785.55</td>\n",
       "    </tr>\n",
       "    <tr>\n",
       "      <th>168.11</th>\n",
       "      <td>1.0</td>\n",
       "      <td>3587.53</td>\n",
       "      <td>NaN</td>\n",
       "      <td>3587.53</td>\n",
       "      <td>3587.53</td>\n",
       "      <td>3587.53</td>\n",
       "      <td>3587.53</td>\n",
       "      <td>3587.53</td>\n",
       "    </tr>\n",
       "  </tbody>\n",
       "</table>\n",
       "<p>4692 rows × 8 columns</p>\n",
       "</div>"
      ],
      "text/plain": [
       "        count     mean  std      min      25%      50%      75%      max\n",
       "NO2                                                                     \n",
       "0.16      1.0   390.00  NaN   390.00   390.00   390.00   390.00   390.00\n",
       "0.97      1.0   406.96  NaN   406.96   406.96   406.96   406.96   406.96\n",
       "1.56      1.0   345.18  NaN   345.18   345.18   345.18   345.18   345.18\n",
       "1.66      1.0   255.81  NaN   255.81   255.81   255.81   255.81   255.81\n",
       "2.02      1.0   231.13  NaN   231.13   231.13   231.13   231.13   231.13\n",
       "...       ...      ...  ...      ...      ...      ...      ...      ...\n",
       "147.14    1.0  2156.91  NaN  2156.91  2156.91  2156.91  2156.91  2156.91\n",
       "157.18    1.0  2141.60  NaN  2141.60  2141.60  2141.60  2141.60  2141.60\n",
       "159.42    1.0  3821.42  NaN  3821.42  3821.42  3821.42  3821.42  3821.42\n",
       "161.03    1.0  3785.55  NaN  3785.55  3785.55  3785.55  3785.55  3785.55\n",
       "168.11    1.0  3587.53  NaN  3587.53  3587.53  3587.53  3587.53  3587.53\n",
       "\n",
       "[4692 rows x 8 columns]"
      ]
     },
     "execution_count": 145,
     "metadata": {},
     "output_type": "execute_result"
    }
   ],
   "source": [
    "df.groupby(\"NO2\")[\"CO\"].describe()"
   ]
  },
  {
   "cell_type": "code",
   "execution_count": 146,
   "metadata": {},
   "outputs": [],
   "source": [
    "#sns.lineplot(x = \"NO2\",  y = \"CO\", data = df)"
   ]
  },
  {
   "cell_type": "code",
   "execution_count": 147,
   "metadata": {},
   "outputs": [],
   "source": [
    "#sns.lineplot(x = \"NO2\", y = \"CO\", hue = \"NO2\", data = df)"
   ]
  },
  {
   "cell_type": "code",
   "execution_count": 148,
   "metadata": {},
   "outputs": [
    {
     "data": {
      "text/plain": [
       "<matplotlib.axes._subplots.AxesSubplot at 0x2204bfb2e88>"
      ]
     },
     "execution_count": 148,
     "metadata": {},
     "output_type": "execute_result"
    },
    {
     "data": {
      "image/png": "[encoded data removed]",
      "text/plain": [
       "<Figure size 432x288 with 1 Axes>"
      ]
     },
     "metadata": {
      "needs_background": "light"
     },
     "output_type": "display_data"
    }
   ],
   "source": [
    "dfgünlük['PM10'].plot.hist(bins = 90)"
   ]
  },
  {
   "cell_type": "code",
   "execution_count": 149,
   "metadata": {},
   "outputs": [
    {
     "data": {
      "text/plain": [
       "<matplotlib.axes._subplots.AxesSubplot at 0x2204dad8248>"
      ]
     },
     "execution_count": 149,
     "metadata": {},
     "output_type": "execute_result"
    },
    {
     "data": {
      "image/png": "[encoded data removed]",
      "text/plain": [
       "<Figure size 432x288 with 1 Axes>"
      ]
     },
     "metadata": {
      "needs_background": "light"
     },
     "output_type": "display_data"
    }
   ],
   "source": [
    "dfgünlük['SO2'].plot.hist(bins = 90)"
   ]
  },
  {
   "cell_type": "code",
   "execution_count": 150,
   "metadata": {},
   "outputs": [
    {
     "data": {
      "text/plain": [
       "<matplotlib.axes._subplots.AxesSubplot at 0x2204d943d48>"
      ]
     },
     "execution_count": 150,
     "metadata": {},
     "output_type": "execute_result"
    },
    {
     "data": {
      "image/png": "[encoded data removed]",
      "text/plain": [
       "<Figure size 432x288 with 1 Axes>"
      ]
     },
     "metadata": {
      "needs_background": "light"
     },
     "output_type": "display_data"
    }
   ],
   "source": [
    "dfgünlük['CO'].plot.hist(bins = 90)"
   ]
  },
  {
   "cell_type": "code",
   "execution_count": 151,
   "metadata": {},
   "outputs": [
    {
     "data": {
      "text/plain": [
       "<matplotlib.axes._subplots.AxesSubplot at 0x2204da93bc8>"
      ]
     },
     "execution_count": 151,
     "metadata": {},
     "output_type": "execute_result"
    },
    {
     "data": {
      "image/png": "[encoded data removed]",
      "text/plain": [
       "<Figure size 432x288 with 1 Axes>"
      ]
     },
     "metadata": {
      "needs_background": "light"
     },
     "output_type": "display_data"
    }
   ],
   "source": [
    "dfgünlük['NO2'].plot.hist(bins = 90)"
   ]
  },
  {
   "cell_type": "code",
   "execution_count": 152,
   "metadata": {},
   "outputs": [
    {
     "data": {
      "text/plain": [
       "<matplotlib.axes._subplots.AxesSubplot at 0x2204d4579c8>"
      ]
     },
     "execution_count": 152,
     "metadata": {},
     "output_type": "execute_result"
    },
    {
     "data": {
      "image/png": "[encoded data removed]",
      "text/plain": [
       "<Figure size 432x288 with 1 Axes>"
      ]
     },
     "metadata": {
      "needs_background": "light"
     },
     "output_type": "display_data"
    }
   ],
   "source": [
    "dfgünlük['O3'].plot.hist(bins = 90)"
   ]
  },
  {
   "cell_type": "code",
   "execution_count": 153,
   "metadata": {},
   "outputs": [
    {
     "data": {
      "text/html": [
       "<div>\n",
       "<style scoped>\n",
       "    .dataframe tbody tr th:only-of-type {\n",
       "        vertical-align: middle;\n",
       "    }\n",
       "\n",
       "    .dataframe tbody tr th {\n",
       "        vertical-align: top;\n",
       "    }\n",
       "\n",
       "    .dataframe thead th {\n",
       "        text-align: right;\n",
       "    }\n",
       "</style>\n",
       "<table border=\"1\" class=\"dataframe\">\n",
       "  <thead>\n",
       "    <tr style=\"text-align: right;\">\n",
       "      <th></th>\n",
       "      <th>PM10</th>\n",
       "      <th>SO2</th>\n",
       "      <th>CO</th>\n",
       "      <th>NO2</th>\n",
       "      <th>O3</th>\n",
       "    </tr>\n",
       "  </thead>\n",
       "  <tbody>\n",
       "    <tr>\n",
       "      <th>PM10</th>\n",
       "      <td>1.000000</td>\n",
       "      <td>0.563913</td>\n",
       "      <td>0.652162</td>\n",
       "      <td>0.618109</td>\n",
       "      <td>-0.488244</td>\n",
       "    </tr>\n",
       "    <tr>\n",
       "      <th>SO2</th>\n",
       "      <td>0.563913</td>\n",
       "      <td>1.000000</td>\n",
       "      <td>0.766450</td>\n",
       "      <td>0.696409</td>\n",
       "      <td>-0.403674</td>\n",
       "    </tr>\n",
       "    <tr>\n",
       "      <th>CO</th>\n",
       "      <td>0.652162</td>\n",
       "      <td>0.766450</td>\n",
       "      <td>1.000000</td>\n",
       "      <td>0.798601</td>\n",
       "      <td>-0.526756</td>\n",
       "    </tr>\n",
       "    <tr>\n",
       "      <th>NO2</th>\n",
       "      <td>0.618109</td>\n",
       "      <td>0.696409</td>\n",
       "      <td>0.798601</td>\n",
       "      <td>1.000000</td>\n",
       "      <td>-0.482917</td>\n",
       "    </tr>\n",
       "    <tr>\n",
       "      <th>O3</th>\n",
       "      <td>-0.488244</td>\n",
       "      <td>-0.403674</td>\n",
       "      <td>-0.526756</td>\n",
       "      <td>-0.482917</td>\n",
       "      <td>1.000000</td>\n",
       "    </tr>\n",
       "  </tbody>\n",
       "</table>\n",
       "</div>"
      ],
      "text/plain": [
       "          PM10       SO2        CO       NO2        O3\n",
       "PM10  1.000000  0.563913  0.652162  0.618109 -0.488244\n",
       "SO2   0.563913  1.000000  0.766450  0.696409 -0.403674\n",
       "CO    0.652162  0.766450  1.000000  0.798601 -0.526756\n",
       "NO2   0.618109  0.696409  0.798601  1.000000 -0.482917\n",
       "O3   -0.488244 -0.403674 -0.526756 -0.482917  1.000000"
      ]
     },
     "execution_count": 153,
     "metadata": {},
     "output_type": "execute_result"
    }
   ],
   "source": [
    "df.corr()"
   ]
  },
  {
   "cell_type": "code",
   "execution_count": 154,
   "metadata": {},
   "outputs": [
    {
     "data": {
      "text/html": [
       "<div>\n",
       "<style scoped>\n",
       "    .dataframe tbody tr th:only-of-type {\n",
       "        vertical-align: middle;\n",
       "    }\n",
       "\n",
       "    .dataframe tbody tr th {\n",
       "        vertical-align: top;\n",
       "    }\n",
       "\n",
       "    .dataframe thead th {\n",
       "        text-align: right;\n",
       "    }\n",
       "</style>\n",
       "<table border=\"1\" class=\"dataframe\">\n",
       "  <thead>\n",
       "    <tr style=\"text-align: right;\">\n",
       "      <th></th>\n",
       "      <th>PM10</th>\n",
       "      <th>SO2</th>\n",
       "      <th>CO</th>\n",
       "      <th>NO2</th>\n",
       "      <th>O3</th>\n",
       "    </tr>\n",
       "  </thead>\n",
       "  <tbody>\n",
       "    <tr>\n",
       "      <th>PM10</th>\n",
       "      <td>1.000000</td>\n",
       "      <td>0.577948</td>\n",
       "      <td>0.708367</td>\n",
       "      <td>0.821239</td>\n",
       "      <td>-0.551330</td>\n",
       "    </tr>\n",
       "    <tr>\n",
       "      <th>SO2</th>\n",
       "      <td>0.577948</td>\n",
       "      <td>1.000000</td>\n",
       "      <td>0.767299</td>\n",
       "      <td>0.808081</td>\n",
       "      <td>-0.405807</td>\n",
       "    </tr>\n",
       "    <tr>\n",
       "      <th>CO</th>\n",
       "      <td>0.708367</td>\n",
       "      <td>0.767299</td>\n",
       "      <td>1.000000</td>\n",
       "      <td>0.861791</td>\n",
       "      <td>-0.643037</td>\n",
       "    </tr>\n",
       "    <tr>\n",
       "      <th>NO2</th>\n",
       "      <td>0.821239</td>\n",
       "      <td>0.808081</td>\n",
       "      <td>0.861791</td>\n",
       "      <td>1.000000</td>\n",
       "      <td>-0.552035</td>\n",
       "    </tr>\n",
       "    <tr>\n",
       "      <th>O3</th>\n",
       "      <td>-0.551330</td>\n",
       "      <td>-0.405807</td>\n",
       "      <td>-0.643037</td>\n",
       "      <td>-0.552035</td>\n",
       "      <td>1.000000</td>\n",
       "    </tr>\n",
       "  </tbody>\n",
       "</table>\n",
       "</div>"
      ],
      "text/plain": [
       "          PM10       SO2        CO       NO2        O3\n",
       "PM10  1.000000  0.577948  0.708367  0.821239 -0.551330\n",
       "SO2   0.577948  1.000000  0.767299  0.808081 -0.405807\n",
       "CO    0.708367  0.767299  1.000000  0.861791 -0.643037\n",
       "NO2   0.821239  0.808081  0.861791  1.000000 -0.552035\n",
       "O3   -0.551330 -0.405807 -0.643037 -0.552035  1.000000"
      ]
     },
     "execution_count": 154,
     "metadata": {},
     "output_type": "execute_result"
    }
   ],
   "source": [
    "dfgünlük.corr()"
   ]
  },
  {
   "cell_type": "code",
   "execution_count": 155,
   "metadata": {},
   "outputs": [
    {
     "data": {
      "text/plain": [
       "'Şekilde görüldüğü üzere bunlar korelasyon değerleri PM10 SO2 CO2 hepsi insan atığıdır. Bu yüzden hepsi O3 ile negatif \\nkolerasyona sahiptir.\\nPM10 diye tabir ettiğimiz şey Partiküler madde miktarıdır.\\nSO2 CO NO2 ise bildiğimiz üzere bizim atıklarımızdır. Dolayısıyla bu 4 tane değişken arasında pozitif korelasyon olması \\ndeğildir. \\nBunların ilk başta geleni NO2 dir. Dikkatli incelenirse genel oalrak en yüksek korelasyonlar ondadır(az farklada olsa)\\nBunun nedeni en cok üretilen gazdır(azot oksitleri grubundadır)\\nOndan sonra ise karbon oksitleri gelmekte sonrası isede diğer gazla\\nben hem görselleştirme hemde analiz açısından NO2-CO üzerinde duracagım cunku 0.80e yakın ciddi bir ilişkiye sahıpler\\n'"
      ]
     },
     "execution_count": 155,
     "metadata": {},
     "output_type": "execute_result"
    }
   ],
   "source": [
    "'''Şekilde görüldüğü üzere bunlar korelasyon değerleri PM10 SO2 CO2 hepsi insan atığıdır. Bu yüzden hepsi O3 ile negatif \n",
    "kolerasyona sahiptir.\n",
    "PM10 diye tabir ettiğimiz şey Partiküler madde miktarıdır.\n",
    "SO2 CO NO2 ise bildiğimiz üzere bizim atıklarımızdır. Dolayısıyla bu 4 tane değişken arasında pozitif korelasyon olması \n",
    "değildir. \n",
    "Bunların ilk başta geleni NO2 dir. Dikkatli incelenirse genel oalrak en yüksek korelasyonlar ondadır(az farklada olsa)\n",
    "Bunun nedeni en cok üretilen gazdır(azot oksitleri grubundadır)\n",
    "Ondan sonra ise karbon oksitleri gelmekte sonrası isede diğer gazla\n",
    "ben hem görselleştirme hemde analiz açısından NO2-CO üzerinde duracagım cunku 0.80e yakın ciddi bir ilişkiye sahıpler\n",
    "'''"
   ]
  },
  {
   "cell_type": "code",
   "execution_count": 156,
   "metadata": {},
   "outputs": [
    {
     "data": {
      "text/plain": [
       "'%config InlineBackend.figure_format = \\'retina\\'\\ng = sns.catplot(x = \\'NO2\\', y = \\'Tarih\\', hue = \"value\", data = df,);\\n\\nsns.catplot(x=\"NO2\", y=\"Tarih\", data=df);\\n\\nsns.catplot(x=\"NO2\", y=\"Tarih\", hue=\"value\", kind=\"swarm\", data=df);\\n\\nsns.catplot(x=\"NO2\", y=\"Tarih\", kind=\"swarm\", data=tips);'"
      ]
     },
     "execution_count": 156,
     "metadata": {},
     "output_type": "execute_result"
    }
   ],
   "source": [
    "'''%config InlineBackend.figure_format = 'retina'\n",
    "g = sns.catplot(x = 'NO2', y = 'Tarih', hue = \"value\", data = df,);\n",
    "\n",
    "sns.catplot(x=\"NO2\", y=\"Tarih\", data=df);\n",
    "\n",
    "sns.catplot(x=\"NO2\", y=\"Tarih\", hue=\"value\", kind=\"swarm\", data=df);\n",
    "\n",
    "sns.catplot(x=\"NO2\", y=\"Tarih\", kind=\"swarm\", data=tips);'''"
   ]
  },
  {
   "cell_type": "code",
   "execution_count": 157,
   "metadata": {},
   "outputs": [],
   "source": [
    "#sns.distplot(df.NO2, kde = True);"
   ]
  },
  {
   "cell_type": "code",
   "execution_count": 158,
   "metadata": {},
   "outputs": [],
   "source": [
    "#sns.distplot(df.CO, kde = True);"
   ]
  },
  {
   "cell_type": "code",
   "execution_count": 159,
   "metadata": {},
   "outputs": [
    {
     "data": {
      "text/plain": [
       "'Şimdi boxplot ve catplot violin ile aykırı değer olup olmadığına bakacağız\\n\\nBoxplotlarda 2 kabul edilebilirlik çizgisi dışında kalan değerler aykırı deer olarak adlandırılır ve onları datadan çıkarmak \\nML ve DL algoritmalarında sonucu doğrudan pozitif bir şekilde etkileyecektir.\\n\\nViloinlerde ise  dikey çizgi ne kadar dik çıkık ise aykırı değerler okadar var demektir.\\n\\nBu değerler data temiz değil ise yada birkaç neden daha ötürü görülebilir.\\n\\nBurdaki aykırı değerler küresel ısınma ya da insanların çevreye verdiği hasarının bir sonucu olabilir.\\n\\nO3 değerinin aykırı data içermemesi ve diğer parametrelerinin aşağı yukarıda aynı miktarda aykırı data içermesi düşünüldüğünde\\nbu epey insan hasarı olarakkabul edilebilir.'"
      ]
     },
     "execution_count": 159,
     "metadata": {},
     "output_type": "execute_result"
    }
   ],
   "source": [
    "'''Şimdi boxplot ve catplot violin ile aykırı değer olup olmadığına bakacağız\n",
    "\n",
    "Boxplotlarda 2 kabul edilebilirlik çizgisi dışında kalan değerler aykırı deer olarak adlandırılır ve onları datadan çıkarmak \n",
    "ML ve DL algoritmalarında sonucu doğrudan pozitif bir şekilde etkileyecektir.\n",
    "\n",
    "Viloinlerde ise  dikey çizgi ne kadar dik çıkık ise aykırı değerler okadar var demektir.\n",
    "\n",
    "Bu değerler data temiz değil ise yada birkaç neden daha ötürü görülebilir.\n",
    "\n",
    "Burdaki aykırı değerler küresel ısınma ya da insanların çevreye verdiği hasarının bir sonucu olabilir.\n",
    "\n",
    "O3 değerinin aykırı data içermemesi ve diğer parametrelerinin aşağı yukarıda aynı miktarda aykırı data içermesi düşünüldüğünde\n",
    "bu epey insan hasarı olarakkabul edilebilir.'''"
   ]
  },
  {
   "cell_type": "code",
   "execution_count": 160,
   "metadata": {},
   "outputs": [
    {
     "data": {
      "image/png": "[encoded data removed]",
      "text/plain": [
       "<Figure size 432x288 with 1 Axes>"
      ]
     },
     "metadata": {
      "needs_background": "light"
     },
     "output_type": "display_data"
    }
   ],
   "source": [
    "sns.boxplot(x = df['PM10']);"
   ]
  },
  {
   "cell_type": "code",
   "execution_count": 161,
   "metadata": {},
   "outputs": [
    {
     "data": {
      "image/png": "[encoded data removed]",
      "text/plain": [
       "<Figure size 432x288 with 1 Axes>"
      ]
     },
     "metadata": {
      "needs_background": "light"
     },
     "output_type": "display_data"
    }
   ],
   "source": [
    "sns.boxplot(x = dfgünlük['PM10']);"
   ]
  },
  {
   "cell_type": "code",
   "execution_count": 162,
   "metadata": {},
   "outputs": [
    {
     "data": {
      "image/png": "[encoded data removed]",
      "text/plain": [
       "<Figure size 432x288 with 1 Axes>"
      ]
     },
     "metadata": {
      "needs_background": "light"
     },
     "output_type": "display_data"
    }
   ],
   "source": [
    "sns.boxplot(x = df['SO2']);"
   ]
  },
  {
   "cell_type": "code",
   "execution_count": 163,
   "metadata": {},
   "outputs": [
    {
     "data": {
      "image/png": "[encoded data removed]",
      "text/plain": [
       "<Figure size 432x288 with 1 Axes>"
      ]
     },
     "metadata": {
      "needs_background": "light"
     },
     "output_type": "display_data"
    }
   ],
   "source": [
    "sns.boxplot(x = dfgünlük['SO2']);"
   ]
  },
  {
   "cell_type": "code",
   "execution_count": 164,
   "metadata": {},
   "outputs": [
    {
     "data": {
      "image/png": "[encoded data removed]",
      "text/plain": [
       "<Figure size 432x288 with 1 Axes>"
      ]
     },
     "metadata": {
      "needs_background": "light"
     },
     "output_type": "display_data"
    }
   ],
   "source": [
    "sns.boxplot(x = df['CO']);"
   ]
  },
  {
   "cell_type": "code",
   "execution_count": 165,
   "metadata": {},
   "outputs": [
    {
     "data": {
      "image/png": "[encoded data removed]",
      "text/plain": [
       "<Figure size 432x288 with 1 Axes>"
      ]
     },
     "metadata": {
      "needs_background": "light"
     },
     "output_type": "display_data"
    }
   ],
   "source": [
    "sns.boxplot(x = dfgünlük['CO']);"
   ]
  },
  {
   "cell_type": "code",
   "execution_count": 166,
   "metadata": {},
   "outputs": [
    {
     "data": {
      "image/png": "[encoded data removed]",
      "text/plain": [
       "<Figure size 432x288 with 1 Axes>"
      ]
     },
     "metadata": {
      "needs_background": "light"
     },
     "output_type": "display_data"
    }
   ],
   "source": [
    "sns.boxplot(x = df['NO2']);"
   ]
  },
  {
   "cell_type": "code",
   "execution_count": 167,
   "metadata": {},
   "outputs": [
    {
     "data": {
      "image/png": "[encoded data removed]",
      "text/plain": [
       "<Figure size 432x288 with 1 Axes>"
      ]
     },
     "metadata": {
      "needs_background": "light"
     },
     "output_type": "display_data"
    }
   ],
   "source": [
    "sns.boxplot(x = dfgünlük['NO2']);"
   ]
  },
  {
   "cell_type": "code",
   "execution_count": 168,
   "metadata": {},
   "outputs": [
    {
     "data": {
      "image/png": "[encoded data removed]",
      "text/plain": [
       "<Figure size 432x288 with 1 Axes>"
      ]
     },
     "metadata": {
      "needs_background": "light"
     },
     "output_type": "display_data"
    }
   ],
   "source": [
    "sns.boxplot(x = df['O3']);"
   ]
  },
  {
   "cell_type": "code",
   "execution_count": 169,
   "metadata": {},
   "outputs": [
    {
     "data": {
      "image/png": "[encoded data removed]",
      "text/plain": [
       "<Figure size 432x288 with 1 Axes>"
      ]
     },
     "metadata": {
      "needs_background": "light"
     },
     "output_type": "display_data"
    }
   ],
   "source": [
    "sns.boxplot(x = dfgünlük['O3']);"
   ]
  },
  {
   "cell_type": "code",
   "execution_count": 170,
   "metadata": {},
   "outputs": [
    {
     "data": {
      "text/plain": [
       "<seaborn.axisgrid.FacetGrid at 0x2204d6df7c8>"
      ]
     },
     "execution_count": 170,
     "metadata": {},
     "output_type": "execute_result"
    },
    {
     "data": {
      "image/png": "[encoded data removed]",
      "text/plain": [
       "<Figure size 360x360 with 1 Axes>"
      ]
     },
     "metadata": {
      "needs_background": "light"
     },
     "output_type": "display_data"
    }
   ],
   "source": [
    "sns.catplot(y = \"PM10\", kind = \"violin\", data = df)"
   ]
  },
  {
   "cell_type": "code",
   "execution_count": 171,
   "metadata": {},
   "outputs": [
    {
     "data": {
      "text/plain": [
       "<seaborn.axisgrid.FacetGrid at 0x2204e0b78c8>"
      ]
     },
     "execution_count": 171,
     "metadata": {},
     "output_type": "execute_result"
    },
    {
     "data": {
      "image/png": "[encoded data removed]",
      "text/plain": [
       "<Figure size 360x360 with 1 Axes>"
      ]
     },
     "metadata": {
      "needs_background": "light"
     },
     "output_type": "display_data"
    }
   ],
   "source": [
    "sns.catplot(y = \"PM10\", kind = \"violin\", data = dfgünlük)"
   ]
  },
  {
   "cell_type": "code",
   "execution_count": 172,
   "metadata": {},
   "outputs": [
    {
     "data": {
      "text/plain": [
       "<seaborn.axisgrid.FacetGrid at 0x2204ddabc88>"
      ]
     },
     "execution_count": 172,
     "metadata": {},
     "output_type": "execute_result"
    },
    {
     "data": {
      "image/png": "[encoded data removed]",
      "text/plain": [
       "<Figure size 360x360 with 1 Axes>"
      ]
     },
     "metadata": {
      "needs_background": "light"
     },
     "output_type": "display_data"
    }
   ],
   "source": [
    "sns.catplot(y = \"SO2\", kind = \"violin\", data = df)"
   ]
  },
  {
   "cell_type": "code",
   "execution_count": 173,
   "metadata": {},
   "outputs": [
    {
     "data": {
      "text/plain": [
       "<seaborn.axisgrid.FacetGrid at 0x2204d6ac948>"
      ]
     },
     "execution_count": 173,
     "metadata": {},
     "output_type": "execute_result"
    },
    {
     "data": {
      "image/png": "[encoded data removed]",
      "text/plain": [
       "<Figure size 360x360 with 1 Axes>"
      ]
     },
     "metadata": {
      "needs_background": "light"
     },
     "output_type": "display_data"
    }
   ],
   "source": [
    "sns.catplot(y = \"SO2\", kind = \"violin\", data = dfgünlük)"
   ]
  },
  {
   "cell_type": "code",
   "execution_count": 174,
   "metadata": {},
   "outputs": [
    {
     "data": {
      "text/plain": [
       "<seaborn.axisgrid.FacetGrid at 0x2204d7178c8>"
      ]
     },
     "execution_count": 174,
     "metadata": {},
     "output_type": "execute_result"
    },
    {
     "data": {
      "image/png": "[encoded data removed]",
      "text/plain": [
       "<Figure size 360x360 with 1 Axes>"
      ]
     },
     "metadata": {
      "needs_background": "light"
     },
     "output_type": "display_data"
    }
   ],
   "source": [
    "sns.catplot(y = \"CO\", kind = \"violin\", data = df)"
   ]
  },
  {
   "cell_type": "code",
   "execution_count": 175,
   "metadata": {},
   "outputs": [
    {
     "data": {
      "text/plain": [
       "<seaborn.axisgrid.FacetGrid at 0x2204d806a88>"
      ]
     },
     "execution_count": 175,
     "metadata": {},
     "output_type": "execute_result"
    },
    {
     "data": {
      "image/png": "[encoded data removed]",
      "text/plain": [
       "<Figure size 360x360 with 1 Axes>"
      ]
     },
     "metadata": {
      "needs_background": "light"
     },
     "output_type": "display_data"
    }
   ],
   "source": [
    "sns.catplot(y = \"CO\", kind = \"violin\", data = dfgünlük)"
   ]
  },
  {
   "cell_type": "code",
   "execution_count": 176,
   "metadata": {},
   "outputs": [
    {
     "data": {
      "text/plain": [
       "<seaborn.axisgrid.FacetGrid at 0x2204e03c348>"
      ]
     },
     "execution_count": 176,
     "metadata": {},
     "output_type": "execute_result"
    },
    {
     "data": {
      "image/png": "[encoded data removed]",
      "text/plain": [
       "<Figure size 360x360 with 1 Axes>"
      ]
     },
     "metadata": {
      "needs_background": "light"
     },
     "output_type": "display_data"
    }
   ],
   "source": [
    "sns.catplot(y = \"NO2\", kind = \"violin\", data = df)"
   ]
  },
  {
   "cell_type": "code",
   "execution_count": 177,
   "metadata": {},
   "outputs": [
    {
     "data": {
      "text/plain": [
       "<seaborn.axisgrid.FacetGrid at 0x2204daa1c08>"
      ]
     },
     "execution_count": 177,
     "metadata": {},
     "output_type": "execute_result"
    },
    {
     "data": {
      "image/png": "[encoded data removed]",
      "text/plain": [
       "<Figure size 360x360 with 1 Axes>"
      ]
     },
     "metadata": {
      "needs_background": "light"
     },
     "output_type": "display_data"
    }
   ],
   "source": [
    "sns.catplot(y = \"NO2\", kind = \"violin\", data = dfgünlük)"
   ]
  },
  {
   "cell_type": "code",
   "execution_count": 178,
   "metadata": {},
   "outputs": [
    {
     "data": {
      "text/plain": [
       "<seaborn.axisgrid.FacetGrid at 0x2204dfcd708>"
      ]
     },
     "execution_count": 178,
     "metadata": {},
     "output_type": "execute_result"
    },
    {
     "data": {
      "image/png": "[encoded data removed]",
      "text/plain": [
       "<Figure size 360x360 with 1 Axes>"
      ]
     },
     "metadata": {
      "needs_background": "light"
     },
     "output_type": "display_data"
    }
   ],
   "source": [
    "sns.catplot(y = \"O3\", kind = \"violin\", data = df)"
   ]
  },
  {
   "cell_type": "code",
   "execution_count": 179,
   "metadata": {},
   "outputs": [
    {
     "data": {
      "text/plain": [
       "<seaborn.axisgrid.FacetGrid at 0x2204daf0088>"
      ]
     },
     "execution_count": 179,
     "metadata": {},
     "output_type": "execute_result"
    },
    {
     "data": {
      "image/png": "[encoded data removed]",
      "text/plain": [
       "<Figure size 360x360 with 1 Axes>"
      ]
     },
     "metadata": {
      "needs_background": "light"
     },
     "output_type": "display_data"
    }
   ],
   "source": [
    "sns.catplot(y = \"O3\", kind = \"violin\", data = dfgünlük)"
   ]
  },
  {
   "cell_type": "code",
   "execution_count": 180,
   "metadata": {},
   "outputs": [],
   "source": [
    "#sns.catplot(x = 'NO2', y = 'Tarih', kind = 'violin', data = df)"
   ]
  },
  {
   "cell_type": "code",
   "execution_count": 181,
   "metadata": {},
   "outputs": [
    {
     "data": {
      "text/html": [
       "<div>\n",
       "<style scoped>\n",
       "    .dataframe tbody tr th:only-of-type {\n",
       "        vertical-align: middle;\n",
       "    }\n",
       "\n",
       "    .dataframe tbody tr th {\n",
       "        vertical-align: top;\n",
       "    }\n",
       "\n",
       "    .dataframe thead th {\n",
       "        text-align: right;\n",
       "    }\n",
       "</style>\n",
       "<table border=\"1\" class=\"dataframe\">\n",
       "  <thead>\n",
       "    <tr style=\"text-align: right;\">\n",
       "      <th></th>\n",
       "      <th>Tarih</th>\n",
       "      <th>PM10</th>\n",
       "      <th>SO2</th>\n",
       "      <th>CO</th>\n",
       "      <th>NO2</th>\n",
       "      <th>O3</th>\n",
       "    </tr>\n",
       "  </thead>\n",
       "  <tbody>\n",
       "    <tr>\n",
       "      <th>0</th>\n",
       "      <td>2019-12-31 23:00:56</td>\n",
       "      <td>36.38</td>\n",
       "      <td>11.34</td>\n",
       "      <td>1142.85</td>\n",
       "      <td>23.50</td>\n",
       "      <td>25.31</td>\n",
       "    </tr>\n",
       "    <tr>\n",
       "      <th>1</th>\n",
       "      <td>2019-12-31 22:00:56</td>\n",
       "      <td>44.51</td>\n",
       "      <td>16.29</td>\n",
       "      <td>1035.89</td>\n",
       "      <td>20.76</td>\n",
       "      <td>28.43</td>\n",
       "    </tr>\n",
       "    <tr>\n",
       "      <th>2</th>\n",
       "      <td>2019-12-31 21:00:56</td>\n",
       "      <td>61.78</td>\n",
       "      <td>20.84</td>\n",
       "      <td>1241.36</td>\n",
       "      <td>30.59</td>\n",
       "      <td>22.58</td>\n",
       "    </tr>\n",
       "    <tr>\n",
       "      <th>3</th>\n",
       "      <td>2019-12-31 20:00:56</td>\n",
       "      <td>79.23</td>\n",
       "      <td>19.15</td>\n",
       "      <td>1123.91</td>\n",
       "      <td>29.34</td>\n",
       "      <td>25.60</td>\n",
       "    </tr>\n",
       "    <tr>\n",
       "      <th>4</th>\n",
       "      <td>2019-12-31 19:00:56</td>\n",
       "      <td>83.25</td>\n",
       "      <td>21.40</td>\n",
       "      <td>1440.77</td>\n",
       "      <td>44.66</td>\n",
       "      <td>11.19</td>\n",
       "    </tr>\n",
       "    <tr>\n",
       "      <th>...</th>\n",
       "      <td>...</td>\n",
       "      <td>...</td>\n",
       "      <td>...</td>\n",
       "      <td>...</td>\n",
       "      <td>...</td>\n",
       "      <td>...</td>\n",
       "    </tr>\n",
       "    <tr>\n",
       "      <th>8755</th>\n",
       "      <td>2019-01-01 04:00:56</td>\n",
       "      <td>21.88</td>\n",
       "      <td>5.62</td>\n",
       "      <td>626.16</td>\n",
       "      <td>12.13</td>\n",
       "      <td>27.85</td>\n",
       "    </tr>\n",
       "    <tr>\n",
       "      <th>8756</th>\n",
       "      <td>2019-01-01 03:00:56</td>\n",
       "      <td>26.14</td>\n",
       "      <td>5.42</td>\n",
       "      <td>744.41</td>\n",
       "      <td>14.71</td>\n",
       "      <td>26.04</td>\n",
       "    </tr>\n",
       "    <tr>\n",
       "      <th>8757</th>\n",
       "      <td>2019-01-01 02:00:56</td>\n",
       "      <td>30.92</td>\n",
       "      <td>5.91</td>\n",
       "      <td>830.69</td>\n",
       "      <td>17.70</td>\n",
       "      <td>23.61</td>\n",
       "    </tr>\n",
       "    <tr>\n",
       "      <th>8758</th>\n",
       "      <td>2019-01-01 01:00:56</td>\n",
       "      <td>34.85</td>\n",
       "      <td>6.47</td>\n",
       "      <td>925.39</td>\n",
       "      <td>20.53</td>\n",
       "      <td>25.09</td>\n",
       "    </tr>\n",
       "    <tr>\n",
       "      <th>8759</th>\n",
       "      <td>2019-01-01 00:00:56</td>\n",
       "      <td>40.94</td>\n",
       "      <td>7.19</td>\n",
       "      <td>1063.86</td>\n",
       "      <td>26.70</td>\n",
       "      <td>20.21</td>\n",
       "    </tr>\n",
       "  </tbody>\n",
       "</table>\n",
       "<p>8760 rows × 6 columns</p>\n",
       "</div>"
      ],
      "text/plain": [
       "                   Tarih   PM10    SO2       CO    NO2     O3\n",
       "0    2019-12-31 23:00:56  36.38  11.34  1142.85  23.50  25.31\n",
       "1    2019-12-31 22:00:56  44.51  16.29  1035.89  20.76  28.43\n",
       "2    2019-12-31 21:00:56  61.78  20.84  1241.36  30.59  22.58\n",
       "3    2019-12-31 20:00:56  79.23  19.15  1123.91  29.34  25.60\n",
       "4    2019-12-31 19:00:56  83.25  21.40  1440.77  44.66  11.19\n",
       "...                  ...    ...    ...      ...    ...    ...\n",
       "8755 2019-01-01 04:00:56  21.88   5.62   626.16  12.13  27.85\n",
       "8756 2019-01-01 03:00:56  26.14   5.42   744.41  14.71  26.04\n",
       "8757 2019-01-01 02:00:56  30.92   5.91   830.69  17.70  23.61\n",
       "8758 2019-01-01 01:00:56  34.85   6.47   925.39  20.53  25.09\n",
       "8759 2019-01-01 00:00:56  40.94   7.19  1063.86  26.70  20.21\n",
       "\n",
       "[8760 rows x 6 columns]"
      ]
     },
     "execution_count": 181,
     "metadata": {},
     "output_type": "execute_result"
    }
   ],
   "source": [
    "df"
   ]
  },
  {
   "cell_type": "code",
   "execution_count": 182,
   "metadata": {},
   "outputs": [
    {
     "data": {
      "image/png": "[encoded data removed]",
      "text/plain": [
       "<Figure size 360x360 with 6 Axes>"
      ]
     },
     "metadata": {
      "needs_background": "light"
     },
     "output_type": "display_data"
    }
   ],
   "source": [
    "sns.pairplot(df, vars = ['NO2','CO']);"
   ]
  },
  {
   "cell_type": "code",
   "execution_count": 183,
   "metadata": {},
   "outputs": [
    {
     "data": {
      "image/png": "[encoded data removed]",
      "text/plain": [
       "<Figure size 360x360 with 6 Axes>"
      ]
     },
     "metadata": {
      "needs_background": "light"
     },
     "output_type": "display_data"
    }
   ],
   "source": [
    "sns.pairplot(dfgünlük, vars = ['NO2','CO']);"
   ]
  },
  {
   "cell_type": "code",
   "execution_count": 184,
   "metadata": {},
   "outputs": [
    {
     "data": {
      "text/plain": [
       "'g = sns.PairGrid(df, diag_sharey = False)\\ng.map_lower(sns.kdeplot)\\ng.map_upper(sns.scatterplot)\\ng.map_diag(sns.kdeplot, lw = 3)'"
      ]
     },
     "execution_count": 184,
     "metadata": {},
     "output_type": "execute_result"
    }
   ],
   "source": [
    "'''g = sns.PairGrid(df, diag_sharey = False)\n",
    "g.map_lower(sns.kdeplot)\n",
    "g.map_upper(sns.scatterplot)\n",
    "g.map_diag(sns.kdeplot, lw = 3)'''"
   ]
  },
  {
   "cell_type": "code",
   "execution_count": 185,
   "metadata": {},
   "outputs": [
    {
     "data": {
      "text/html": [
       "<div>\n",
       "<style scoped>\n",
       "    .dataframe tbody tr th:only-of-type {\n",
       "        vertical-align: middle;\n",
       "    }\n",
       "\n",
       "    .dataframe tbody tr th {\n",
       "        vertical-align: top;\n",
       "    }\n",
       "\n",
       "    .dataframe thead th {\n",
       "        text-align: right;\n",
       "    }\n",
       "</style>\n",
       "<table border=\"1\" class=\"dataframe\">\n",
       "  <thead>\n",
       "    <tr style=\"text-align: right;\">\n",
       "      <th></th>\n",
       "      <th>Tarih</th>\n",
       "      <th>PM10</th>\n",
       "      <th>SO2</th>\n",
       "      <th>CO</th>\n",
       "      <th>NO2</th>\n",
       "      <th>O3</th>\n",
       "    </tr>\n",
       "  </thead>\n",
       "  <tbody>\n",
       "    <tr>\n",
       "      <th>0</th>\n",
       "      <td>2019-12-31 23:00:56</td>\n",
       "      <td>36.38</td>\n",
       "      <td>11.34</td>\n",
       "      <td>1142.85</td>\n",
       "      <td>23.50</td>\n",
       "      <td>25.31</td>\n",
       "    </tr>\n",
       "    <tr>\n",
       "      <th>1</th>\n",
       "      <td>2019-12-31 22:00:56</td>\n",
       "      <td>44.51</td>\n",
       "      <td>16.29</td>\n",
       "      <td>1035.89</td>\n",
       "      <td>20.76</td>\n",
       "      <td>28.43</td>\n",
       "    </tr>\n",
       "    <tr>\n",
       "      <th>2</th>\n",
       "      <td>2019-12-31 21:00:56</td>\n",
       "      <td>61.78</td>\n",
       "      <td>20.84</td>\n",
       "      <td>1241.36</td>\n",
       "      <td>30.59</td>\n",
       "      <td>22.58</td>\n",
       "    </tr>\n",
       "    <tr>\n",
       "      <th>3</th>\n",
       "      <td>2019-12-31 20:00:56</td>\n",
       "      <td>79.23</td>\n",
       "      <td>19.15</td>\n",
       "      <td>1123.91</td>\n",
       "      <td>29.34</td>\n",
       "      <td>25.60</td>\n",
       "    </tr>\n",
       "    <tr>\n",
       "      <th>4</th>\n",
       "      <td>2019-12-31 19:00:56</td>\n",
       "      <td>83.25</td>\n",
       "      <td>21.40</td>\n",
       "      <td>1440.77</td>\n",
       "      <td>44.66</td>\n",
       "      <td>11.19</td>\n",
       "    </tr>\n",
       "    <tr>\n",
       "      <th>...</th>\n",
       "      <td>...</td>\n",
       "      <td>...</td>\n",
       "      <td>...</td>\n",
       "      <td>...</td>\n",
       "      <td>...</td>\n",
       "      <td>...</td>\n",
       "    </tr>\n",
       "    <tr>\n",
       "      <th>8755</th>\n",
       "      <td>2019-01-01 04:00:56</td>\n",
       "      <td>21.88</td>\n",
       "      <td>5.62</td>\n",
       "      <td>626.16</td>\n",
       "      <td>12.13</td>\n",
       "      <td>27.85</td>\n",
       "    </tr>\n",
       "    <tr>\n",
       "      <th>8756</th>\n",
       "      <td>2019-01-01 03:00:56</td>\n",
       "      <td>26.14</td>\n",
       "      <td>5.42</td>\n",
       "      <td>744.41</td>\n",
       "      <td>14.71</td>\n",
       "      <td>26.04</td>\n",
       "    </tr>\n",
       "    <tr>\n",
       "      <th>8757</th>\n",
       "      <td>2019-01-01 02:00:56</td>\n",
       "      <td>30.92</td>\n",
       "      <td>5.91</td>\n",
       "      <td>830.69</td>\n",
       "      <td>17.70</td>\n",
       "      <td>23.61</td>\n",
       "    </tr>\n",
       "    <tr>\n",
       "      <th>8758</th>\n",
       "      <td>2019-01-01 01:00:56</td>\n",
       "      <td>34.85</td>\n",
       "      <td>6.47</td>\n",
       "      <td>925.39</td>\n",
       "      <td>20.53</td>\n",
       "      <td>25.09</td>\n",
       "    </tr>\n",
       "    <tr>\n",
       "      <th>8759</th>\n",
       "      <td>2019-01-01 00:00:56</td>\n",
       "      <td>40.94</td>\n",
       "      <td>7.19</td>\n",
       "      <td>1063.86</td>\n",
       "      <td>26.70</td>\n",
       "      <td>20.21</td>\n",
       "    </tr>\n",
       "  </tbody>\n",
       "</table>\n",
       "<p>8760 rows × 6 columns</p>\n",
       "</div>"
      ],
      "text/plain": [
       "                   Tarih   PM10    SO2       CO    NO2     O3\n",
       "0    2019-12-31 23:00:56  36.38  11.34  1142.85  23.50  25.31\n",
       "1    2019-12-31 22:00:56  44.51  16.29  1035.89  20.76  28.43\n",
       "2    2019-12-31 21:00:56  61.78  20.84  1241.36  30.59  22.58\n",
       "3    2019-12-31 20:00:56  79.23  19.15  1123.91  29.34  25.60\n",
       "4    2019-12-31 19:00:56  83.25  21.40  1440.77  44.66  11.19\n",
       "...                  ...    ...    ...      ...    ...    ...\n",
       "8755 2019-01-01 04:00:56  21.88   5.62   626.16  12.13  27.85\n",
       "8756 2019-01-01 03:00:56  26.14   5.42   744.41  14.71  26.04\n",
       "8757 2019-01-01 02:00:56  30.92   5.91   830.69  17.70  23.61\n",
       "8758 2019-01-01 01:00:56  34.85   6.47   925.39  20.53  25.09\n",
       "8759 2019-01-01 00:00:56  40.94   7.19  1063.86  26.70  20.21\n",
       "\n",
       "[8760 rows x 6 columns]"
      ]
     },
     "execution_count": 185,
     "metadata": {},
     "output_type": "execute_result"
    }
   ],
   "source": [
    "df"
   ]
  },
  {
   "cell_type": "code",
   "execution_count": 186,
   "metadata": {},
   "outputs": [],
   "source": [
    "# bu sana datayı attıktan sonra kesıfcı verı analızı ve ön işleme yapabilirsin"
   ]
  },
  {
   "cell_type": "code",
   "execution_count": 187,
   "metadata": {},
   "outputs": [
    {
     "data": {
      "text/plain": [
       "0    27.22\n",
       "1    24.50\n",
       "2    30.29\n",
       "3    36.71\n",
       "4    37.63\n",
       "Name: PM10, dtype: float64"
      ]
     },
     "execution_count": 187,
     "metadata": {},
     "output_type": "execute_result"
    }
   ],
   "source": [
    "HavadakiPM10 = dfgünlük['PM10']\n",
    "HavadakiPM10.head()"
   ]
  },
  {
   "cell_type": "code",
   "execution_count": 188,
   "metadata": {},
   "outputs": [
    {
     "data": {
      "text/plain": [
       "<matplotlib.axes._subplots.AxesSubplot at 0x2204e161888>"
      ]
     },
     "execution_count": 188,
     "metadata": {},
     "output_type": "execute_result"
    },
    {
     "data": {
      "image/png": "[encoded data removed]",
      "text/plain": [
       "<Figure size 432x288 with 1 Axes>"
      ]
     },
     "metadata": {
      "needs_background": "light"
     },
     "output_type": "display_data"
    }
   ],
   "source": [
    "HavadakiPM10.plot()"
   ]
  },
  {
   "cell_type": "code",
   "execution_count": 189,
   "metadata": {},
   "outputs": [
    {
     "data": {
      "text/plain": [
       "<matplotlib.axes._subplots.AxesSubplot at 0x2204d863548>"
      ]
     },
     "execution_count": 189,
     "metadata": {},
     "output_type": "execute_result"
    },
    {
     "data": {
      "image/png": "[encoded data removed]",
      "text/plain": [
       "<Figure size 432x288 with 1 Axes>"
      ]
     },
     "metadata": {
      "needs_background": "light"
     },
     "output_type": "display_data"
    }
   ],
   "source": [
    "HavadakiSO2 = dfgünlük['SO2']\n",
    "HavadakiSO2.plot()"
   ]
  },
  {
   "cell_type": "code",
   "execution_count": 190,
   "metadata": {},
   "outputs": [
    {
     "data": {
      "text/plain": [
       "<matplotlib.axes._subplots.AxesSubplot at 0x2204ddeb588>"
      ]
     },
     "execution_count": 190,
     "metadata": {},
     "output_type": "execute_result"
    },
    {
     "data": {
      "image/png": "[encoded data removed]",
      "text/plain": [
       "<Figure size 432x288 with 1 Axes>"
      ]
     },
     "metadata": {
      "needs_background": "light"
     },
     "output_type": "display_data"
    }
   ],
   "source": [
    "HavadakiCO = dfgünlük['CO']\n",
    "HavadakiCO.plot()"
   ]
  },
  {
   "cell_type": "code",
   "execution_count": 191,
   "metadata": {},
   "outputs": [
    {
     "data": {
      "text/plain": [
       "<matplotlib.axes._subplots.AxesSubplot at 0x22063bf8788>"
      ]
     },
     "execution_count": 191,
     "metadata": {},
     "output_type": "execute_result"
    },
    {
     "data": {
      "image/png": "[encoded data removed]",
      "text/plain": [
       "<Figure size 432x288 with 1 Axes>"
      ]
     },
     "metadata": {
      "needs_background": "light"
     },
     "output_type": "display_data"
    }
   ],
   "source": [
    "HavadakiNO2 = dfgünlük['NO2']\n",
    "HavadakiNO2.plot()"
   ]
  },
  {
   "cell_type": "code",
   "execution_count": 192,
   "metadata": {},
   "outputs": [
    {
     "data": {
      "text/plain": [
       "<matplotlib.axes._subplots.AxesSubplot at 0x22063c50f48>"
      ]
     },
     "execution_count": 192,
     "metadata": {},
     "output_type": "execute_result"
    },
    {
     "data": {
      "image/png": "[encoded data removed]",
      "text/plain": [
       "<Figure size 432x288 with 1 Axes>"
      ]
     },
     "metadata": {
      "needs_background": "light"
     },
     "output_type": "display_data"
    }
   ],
   "source": [
    "HavadakiO3 = dfgünlük['O3']\n",
    "HavadakiO3.plot()"
   ]
  },
  {
   "cell_type": "code",
   "execution_count": 193,
   "metadata": {},
   "outputs": [],
   "source": [
    "#Veri önişleme"
   ]
  },
  {
   "cell_type": "code",
   "execution_count": 194,
   "metadata": {},
   "outputs": [
    {
     "data": {
      "text/html": [
       "<div>\n",
       "<style scoped>\n",
       "    .dataframe tbody tr th:only-of-type {\n",
       "        vertical-align: middle;\n",
       "    }\n",
       "\n",
       "    .dataframe tbody tr th {\n",
       "        vertical-align: top;\n",
       "    }\n",
       "\n",
       "    .dataframe thead th {\n",
       "        text-align: right;\n",
       "    }\n",
       "</style>\n",
       "<table border=\"1\" class=\"dataframe\">\n",
       "  <thead>\n",
       "    <tr style=\"text-align: right;\">\n",
       "      <th></th>\n",
       "      <th>Tarih</th>\n",
       "      <th>PM10</th>\n",
       "      <th>SO2</th>\n",
       "      <th>CO</th>\n",
       "      <th>NO2</th>\n",
       "      <th>O3</th>\n",
       "    </tr>\n",
       "  </thead>\n",
       "  <tbody>\n",
       "    <tr>\n",
       "      <th>0</th>\n",
       "      <td>2019-12-31 23:00:56</td>\n",
       "      <td>36.38</td>\n",
       "      <td>11.34</td>\n",
       "      <td>1142.85</td>\n",
       "      <td>23.50</td>\n",
       "      <td>25.31</td>\n",
       "    </tr>\n",
       "    <tr>\n",
       "      <th>1</th>\n",
       "      <td>2019-12-31 22:00:56</td>\n",
       "      <td>44.51</td>\n",
       "      <td>16.29</td>\n",
       "      <td>1035.89</td>\n",
       "      <td>20.76</td>\n",
       "      <td>28.43</td>\n",
       "    </tr>\n",
       "    <tr>\n",
       "      <th>2</th>\n",
       "      <td>2019-12-31 21:00:56</td>\n",
       "      <td>61.78</td>\n",
       "      <td>20.84</td>\n",
       "      <td>1241.36</td>\n",
       "      <td>30.59</td>\n",
       "      <td>22.58</td>\n",
       "    </tr>\n",
       "    <tr>\n",
       "      <th>3</th>\n",
       "      <td>2019-12-31 20:00:56</td>\n",
       "      <td>79.23</td>\n",
       "      <td>19.15</td>\n",
       "      <td>1123.91</td>\n",
       "      <td>29.34</td>\n",
       "      <td>25.60</td>\n",
       "    </tr>\n",
       "    <tr>\n",
       "      <th>4</th>\n",
       "      <td>2019-12-31 19:00:56</td>\n",
       "      <td>83.25</td>\n",
       "      <td>21.40</td>\n",
       "      <td>1440.77</td>\n",
       "      <td>44.66</td>\n",
       "      <td>11.19</td>\n",
       "    </tr>\n",
       "    <tr>\n",
       "      <th>...</th>\n",
       "      <td>...</td>\n",
       "      <td>...</td>\n",
       "      <td>...</td>\n",
       "      <td>...</td>\n",
       "      <td>...</td>\n",
       "      <td>...</td>\n",
       "    </tr>\n",
       "    <tr>\n",
       "      <th>8755</th>\n",
       "      <td>2019-01-01 04:00:56</td>\n",
       "      <td>21.88</td>\n",
       "      <td>5.62</td>\n",
       "      <td>626.16</td>\n",
       "      <td>12.13</td>\n",
       "      <td>27.85</td>\n",
       "    </tr>\n",
       "    <tr>\n",
       "      <th>8756</th>\n",
       "      <td>2019-01-01 03:00:56</td>\n",
       "      <td>26.14</td>\n",
       "      <td>5.42</td>\n",
       "      <td>744.41</td>\n",
       "      <td>14.71</td>\n",
       "      <td>26.04</td>\n",
       "    </tr>\n",
       "    <tr>\n",
       "      <th>8757</th>\n",
       "      <td>2019-01-01 02:00:56</td>\n",
       "      <td>30.92</td>\n",
       "      <td>5.91</td>\n",
       "      <td>830.69</td>\n",
       "      <td>17.70</td>\n",
       "      <td>23.61</td>\n",
       "    </tr>\n",
       "    <tr>\n",
       "      <th>8758</th>\n",
       "      <td>2019-01-01 01:00:56</td>\n",
       "      <td>34.85</td>\n",
       "      <td>6.47</td>\n",
       "      <td>925.39</td>\n",
       "      <td>20.53</td>\n",
       "      <td>25.09</td>\n",
       "    </tr>\n",
       "    <tr>\n",
       "      <th>8759</th>\n",
       "      <td>2019-01-01 00:00:56</td>\n",
       "      <td>40.94</td>\n",
       "      <td>7.19</td>\n",
       "      <td>1063.86</td>\n",
       "      <td>26.70</td>\n",
       "      <td>20.21</td>\n",
       "    </tr>\n",
       "  </tbody>\n",
       "</table>\n",
       "<p>8760 rows × 6 columns</p>\n",
       "</div>"
      ],
      "text/plain": [
       "                   Tarih   PM10    SO2       CO    NO2     O3\n",
       "0    2019-12-31 23:00:56  36.38  11.34  1142.85  23.50  25.31\n",
       "1    2019-12-31 22:00:56  44.51  16.29  1035.89  20.76  28.43\n",
       "2    2019-12-31 21:00:56  61.78  20.84  1241.36  30.59  22.58\n",
       "3    2019-12-31 20:00:56  79.23  19.15  1123.91  29.34  25.60\n",
       "4    2019-12-31 19:00:56  83.25  21.40  1440.77  44.66  11.19\n",
       "...                  ...    ...    ...      ...    ...    ...\n",
       "8755 2019-01-01 04:00:56  21.88   5.62   626.16  12.13  27.85\n",
       "8756 2019-01-01 03:00:56  26.14   5.42   744.41  14.71  26.04\n",
       "8757 2019-01-01 02:00:56  30.92   5.91   830.69  17.70  23.61\n",
       "8758 2019-01-01 01:00:56  34.85   6.47   925.39  20.53  25.09\n",
       "8759 2019-01-01 00:00:56  40.94   7.19  1063.86  26.70  20.21\n",
       "\n",
       "[8760 rows x 6 columns]"
      ]
     },
     "execution_count": 194,
     "metadata": {},
     "output_type": "execute_result"
    }
   ],
   "source": [
    "df"
   ]
  },
  {
   "cell_type": "code",
   "execution_count": 195,
   "metadata": {},
   "outputs": [],
   "source": [
    "df_table = df.drop('Tarih', axis = 1)"
   ]
  },
  {
   "cell_type": "code",
   "execution_count": 196,
   "metadata": {},
   "outputs": [],
   "source": [
    "df_tableNO2 = df['NO2'].copy()"
   ]
  },
  {
   "cell_type": "code",
   "execution_count": 197,
   "metadata": {},
   "outputs": [
    {
     "data": {
      "text/plain": [
       "<matplotlib.axes._subplots.AxesSubplot at 0x22063cd0148>"
      ]
     },
     "execution_count": 197,
     "metadata": {},
     "output_type": "execute_result"
    },
    {
     "data": {
      "image/png": "[encoded data removed]",
      "text/plain": [
       "<Figure size 432x288 with 1 Axes>"
      ]
     },
     "metadata": {
      "needs_background": "light"
     },
     "output_type": "display_data"
    }
   ],
   "source": [
    "sns.boxplot(x = df_table)"
   ]
  },
  {
   "cell_type": "code",
   "execution_count": 198,
   "metadata": {},
   "outputs": [
    {
     "data": {
      "text/plain": [
       "85.26249999999999"
      ]
     },
     "execution_count": 198,
     "metadata": {},
     "output_type": "execute_result"
    }
   ],
   "source": [
    "Q1 = df_tableNO2.quantile(0.25)# ilk yuzde 25lık deger \n",
    "Q3 = df_tableNO2.quantile(0.75) # son 25lık deger \n",
    "IQR = Q3 - Q1\n",
    "\n",
    "alt_sinir = Q1- 1.5*IQR\n",
    "alt_sinir\n",
    "\n",
    "ust_sinir = Q3 + 1.5*IQR\n",
    "ust_sinir# alt sınır 51.5 ust sınır 63.5 cıktı bunların arasındakıler normal degerler ıken gerıye kalan tum degerler aykırı \n",
    "#gozlemdır"
   ]
  },
  {
   "cell_type": "code",
   "execution_count": 199,
   "metadata": {},
   "outputs": [
    {
     "data": {
      "text/plain": [
       "0       False\n",
       "1       False\n",
       "2       False\n",
       "3       False\n",
       "4       False\n",
       "        ...  \n",
       "8755    False\n",
       "8756    False\n",
       "8757    False\n",
       "8758    False\n",
       "8759    False\n",
       "Name: NO2, Length: 8760, dtype: bool"
      ]
     },
     "execution_count": 199,
     "metadata": {},
     "output_type": "execute_result"
    }
   ],
   "source": [
    "(df_tableNO2 < (alt_sinir)) | (df_tableNO2 > (ust_sinir))"
   ]
  },
  {
   "cell_type": "code",
   "execution_count": 200,
   "metadata": {},
   "outputs": [
    {
     "data": {
      "text/plain": [
       "0       False\n",
       "1       False\n",
       "2       False\n",
       "3       False\n",
       "4       False\n",
       "        ...  \n",
       "8755    False\n",
       "8756    False\n",
       "8757    False\n",
       "8758    False\n",
       "8759    False\n",
       "Name: NO2, Length: 8760, dtype: bool"
      ]
     },
     "execution_count": 200,
     "metadata": {},
     "output_type": "execute_result"
    }
   ],
   "source": [
    "df_tableNO2 < (alt_sinir)"
   ]
  },
  {
   "cell_type": "code",
   "execution_count": 201,
   "metadata": {},
   "outputs": [],
   "source": [
    "aykiri_tf = df_tableNO2 < (alt_sinir)"
   ]
  },
  {
   "cell_type": "code",
   "execution_count": 202,
   "metadata": {},
   "outputs": [
    {
     "data": {
      "text/plain": [
       "Int64Index([], dtype='int64')"
      ]
     },
     "execution_count": 202,
     "metadata": {},
     "output_type": "execute_result"
    }
   ],
   "source": [
    "aykirilar = df_tableNO2[aykiri_tf]\n",
    "aykirilar.index"
   ]
  },
  {
   "cell_type": "code",
   "execution_count": 203,
   "metadata": {},
   "outputs": [
    {
     "data": {
      "text/plain": [
       "(8760,)"
      ]
     },
     "execution_count": 203,
     "metadata": {},
     "output_type": "execute_result"
    }
   ],
   "source": [
    "df_tableNO2.head()\n",
    "type(df_tableNO2)\n",
    "df_tableNO2.shape"
   ]
  },
  {
   "cell_type": "code",
   "execution_count": 205,
   "metadata": {},
   "outputs": [],
   "source": [
    "#temiz_df_table = df_tableNO2[~((df_tableNO2 < (alt_sinir)) | (df_tableNO2 > (ust_sinir))).any(axis = 1)]\n",
    "# ~ bu ısaret dısında kalanlar demektır "
   ]
  },
  {
   "cell_type": "code",
   "execution_count": null,
   "metadata": {},
   "outputs": [],
   "source": []
  },
  {
   "cell_type": "code",
   "execution_count": null,
   "metadata": {},
   "outputs": [],
   "source": []
  },
  {
   "cell_type": "code",
   "execution_count": null,
   "metadata": {},
   "outputs": [],
   "source": []
  },
  {
   "cell_type": "code",
   "execution_count": null,
   "metadata": {},
   "outputs": [],
   "source": []
  },
  {
   "cell_type": "code",
   "execution_count": null,
   "metadata": {},
   "outputs": [],
   "source": []
  },
  {
   "cell_type": "code",
   "execution_count": null,
   "metadata": {},
   "outputs": [],
   "source": []
  },
  {
   "cell_type": "code",
   "execution_count": null,
   "metadata": {},
   "outputs": [],
   "source": []
  },
  {
   "cell_type": "code",
   "execution_count": null,
   "metadata": {},
   "outputs": [],
   "source": []
  },
  {
   "cell_type": "code",
   "execution_count": null,
   "metadata": {},
   "outputs": [],
   "source": []
  },
  {
   "cell_type": "code",
   "execution_count": null,
   "metadata": {},
   "outputs": [],
   "source": []
  },
  {
   "cell_type": "code",
   "execution_count": null,
   "metadata": {},
   "outputs": [],
   "source": []
  },
  {
   "cell_type": "code",
   "execution_count": null,
   "metadata": {},
   "outputs": [],
   "source": []
  },
  {
   "cell_type": "code",
   "execution_count": null,
   "metadata": {},
   "outputs": [],
   "source": []
  },
  {
   "cell_type": "code",
   "execution_count": null,
   "metadata": {},
   "outputs": [],
   "source": []
  },
  {
   "cell_type": "code",
   "execution_count": null,
   "metadata": {},
   "outputs": [],
   "source": []
  },
  {
   "cell_type": "code",
   "execution_count": null,
   "metadata": {},
   "outputs": [],
   "source": []
  },
  {
   "cell_type": "code",
   "execution_count": null,
   "metadata": {},
   "outputs": [],
   "source": []
  },
  {
   "cell_type": "code",
   "execution_count": null,
   "metadata": {},
   "outputs": [],
   "source": []
  },
  {
   "cell_type": "code",
   "execution_count": null,
   "metadata": {},
   "outputs": [],
   "source": []
  },
  {
   "cell_type": "code",
   "execution_count": null,
   "metadata": {},
   "outputs": [],
   "source": []
  },
  {
   "cell_type": "code",
   "execution_count": null,
   "metadata": {},
   "outputs": [],
   "source": []
  },
  {
   "cell_type": "code",
   "execution_count": null,
   "metadata": {},
   "outputs": [],
   "source": []
  },
  {
   "cell_type": "code",
   "execution_count": null,
   "metadata": {},
   "outputs": [],
   "source": []
  },
  {
   "cell_type": "code",
   "execution_count": null,
   "metadata": {},
   "outputs": [],
   "source": []
  },
  {
   "cell_type": "code",
   "execution_count": null,
   "metadata": {},
   "outputs": [],
   "source": []
  },
  {
   "cell_type": "code",
   "execution_count": null,
   "metadata": {},
   "outputs": [],
   "source": []
  },
  {
   "cell_type": "code",
   "execution_count": null,
   "metadata": {},
   "outputs": [],
   "source": []
  },
  {
   "cell_type": "code",
   "execution_count": null,
   "metadata": {},
   "outputs": [],
   "source": []
  },
  {
   "cell_type": "code",
   "execution_count": null,
   "metadata": {},
   "outputs": [],
   "source": []
  },
  {
   "cell_type": "code",
   "execution_count": null,
   "metadata": {},
   "outputs": [],
   "source": []
  }
 ],
 "metadata": {
  "kernelspec": {
   "display_name": "Python 3",
   "language": "python",
   "name": "python3"
  },
  "language_info": {
   "codemirror_mode": {
    "name": "ipython",
    "version": 3
   },
   "file_extension": ".py",
   "mimetype": "text/x-python",
   "name": "python",
   "nbconvert_exporter": "python",
   "pygments_lexer": "ipython3",
   "version": "3.7.7"
  }
 },
 "nbformat": 4,
 "nbformat_minor": 4
}
