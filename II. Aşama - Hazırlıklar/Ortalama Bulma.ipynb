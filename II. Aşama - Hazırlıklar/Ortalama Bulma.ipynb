{
 "cells": [
  {
   "cell_type": "code",
   "execution_count": 0,
   "metadata": {},
   "outputs": [],
   "source": [
    "import pandas as pd\n",
    "import numpy as np"
   ]
  },
  {
   "cell_type": "code",
   "execution_count": 1,
   "metadata": {},
   "outputs": [],
   "source": [
    "excelset = pd.read_excel('Veri Saatlik.xlsx', delimiter = ';') # Excel Dosyasını okumak için\n",
    "excel = pd.DataFrame(excelset, columns=['Tarih', 'SO2', 'NO2', 'CO', 'O3', 'PM10'])\n",
    "boyut = (excel ['Tarih'])"
   ]
  },
  {
   "cell_type": "code",
   "execution_count": 3,
   "metadata": {},
   "outputs": [],
   "source": [
    "ort_PM10 = np.zeros(boyut.size)\n",
    "ort_O3 = np.zeros(boyut.size)\n",
    "ort_CO = np.zeros(boyut.size)\n",
    "\n",
    "\n",
    "data_PM10 = np.zeros(boyut.size)\n",
    "data_O3 = np.zeros(boyut.size)\n",
    "data_CO = np.zeros(boyut.size)"
   ]
  },
  {
   "cell_type": "code",
   "execution_count": 4,
   "metadata": {},
   "outputs": [
    {
     "name": "stdout",
     "output_type": "stream",
     "text": [
      "[51.34437958 51.28754333 50.98872    ...  0.          0.\n",
      "  0.        ]\n"
     ]
    }
   ],
   "source": [
    "#PM10 ortalama\n",
    "\n",
    "for j in range(0,2160,1):\n",
    "    for i in range(j,24+j,1):\n",
    "        data_PM10[i] = excel['PM10'][i]\n",
    "    \n",
    "    ort_PM10[j] = sum(data_PM10)/24\n",
    "    data_PM10 = np.zeros(boyut.size)\n",
    "print(ort_PM10[])"
   ]
  },
  {
   "cell_type": "code",
   "execution_count": 5,
   "metadata": {},
   "outputs": [
    {
     "data": {
      "text/plain": [
       "array([51.34437958, 51.28754333, 50.98872   , ..., 28.8917925 ,\n",
       "       28.41759792, 28.19628875])"
      ]
     },
     "execution_count": 6,
     "metadata": {},
     "output_type": "execute_result"
    }
   ],
   "source": [
    "ort_PM10[0:2160]"
   ]
  },
  {
   "cell_type": "code",
   "execution_count": 7,
   "metadata": {},
   "outputs": [],
   "source": [
    "#O3 ortalama\n",
    "\n",
    "for j in range(16,39,1):\n",
    "    for i in range(j,8+j,1):\n",
    "        data_O3[i] = excel['O3'][i]\n",
    "        \n",
    "    ort_O3[j] = sum(data_O3)/8\n",
    "    data_O3 = np.zeros(boyut.size)"
   ]
  },
  {
   "cell_type": "code",
   "execution_count": 8,
   "metadata": {},
   "outputs": [],
   "source": [
    "#CO ortalama\n",
    "\n",
    "for j in range(16,39,1):\n",
    "    for i in range(j,8+j,1):\n",
    "        data_CO[i] = excel['CO'][i] \n",
    "        \n",
    "    ort_CO[j] = sum(data_CO)/8\n",
    "    data_CO = np.zeros(boyut.size)"
   ]
  },
  {
   "cell_type": "code",
   "execution_count": 9,
   "metadata": {},
   "outputs": [
    {
     "data": {
      "text/plain": [
       "array([1596.56025  , 1443.09525  , 1326.3857625, ...,    0.       ,\n",
       "          0.       ,    0.       ])"
      ]
     },
     "execution_count": 10,
     "metadata": {},
     "output_type": "execute_result"
    }
   ],
   "source": [
    "ort_CO[16:2100]"
   ]
  },
  {
   "cell_type": "code",
   "execution_count": 11,
   "metadata": {},
   "outputs": [],
   "source": []
  }
 ],
 "metadata": {
  "kernelspec": {
   "display_name": "Python 3",
   "language": "python",
   "name": "python3"
  },
  "language_info": {
   "codemirror_mode": {
    "name": "ipython",
    "version": 3
   },
   "file_extension": ".py",
   "mimetype": "text/x-python",
   "name": "python",
   "nbconvert_exporter": "python",
   "pygments_lexer": "ipython3",
   "version": "3.7.4"
  }
 },
 "nbformat": 4,
 "nbformat_minor": 2
}
